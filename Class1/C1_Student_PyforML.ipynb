{
 "cells": [
  {
   "cell_type": "markdown",
   "metadata": {},
   "source": [
    "# Python for Machine Learning"
   ]
  },
  {
   "cell_type": "markdown",
   "metadata": {},
   "source": [
    "**Video for Machine Language introduction:**\n",
    "\n",
    "* 30 mins but explains a lot of \n",
    "https://www.youtube.com/watch?v=IpGxLWOIZy4\n",
    "\n",
    "* 5 mins \n",
    "https://www.youtube.com/watch?v=3bJ7RChxMWQ\n",
    "\n",
    "* 2 mins \n",
    "https://www.youtube.com/watch?v=VUrqddjkxok\n",
    "\n",
    "* 2 mins\n",
    "https://www.youtube.com/watch?v=ydvDwmE4x-Y\n",
    "\n",
    "* 2 mins\n",
    "https://www.youtube.com/watch?v=ty-kTUzMnjk"
   ]
  },
  {
   "cell_type": "markdown",
   "metadata": {},
   "source": [
    "# Python Revision"
   ]
  },
  {
   "cell_type": "markdown",
   "metadata": {},
   "source": [
    "Jupyter Tips & Tricks - https://www.dataquest.io/blog/jupyter-notebook-tips-tricks-shortcuts/"
   ]
  },
  {
   "cell_type": "code",
   "execution_count": 6,
   "metadata": {},
   "outputs": [
    {
     "data": {
      "application/json": {
       "cell": {
        "!": "OSMagics",
        "HTML": "Other",
        "SVG": "Other",
        "bash": "Other",
        "capture": "ExecutionMagics",
        "debug": "ExecutionMagics",
        "file": "Other",
        "html": "DisplayMagics",
        "javascript": "DisplayMagics",
        "js": "DisplayMagics",
        "latex": "DisplayMagics",
        "markdown": "DisplayMagics",
        "perl": "Other",
        "prun": "ExecutionMagics",
        "pypy": "Other",
        "python": "Other",
        "python2": "Other",
        "python3": "Other",
        "ruby": "Other",
        "script": "ScriptMagics",
        "sh": "Other",
        "svg": "DisplayMagics",
        "sx": "OSMagics",
        "system": "OSMagics",
        "time": "ExecutionMagics",
        "timeit": "ExecutionMagics",
        "writefile": "OSMagics"
       },
       "line": {
        "alias": "OSMagics",
        "alias_magic": "BasicMagics",
        "autoawait": "AsyncMagics",
        "autocall": "AutoMagics",
        "automagic": "AutoMagics",
        "autosave": "KernelMagics",
        "bookmark": "OSMagics",
        "cat": "Other",
        "cd": "OSMagics",
        "clear": "KernelMagics",
        "colors": "BasicMagics",
        "conda": "PackagingMagics",
        "config": "ConfigMagics",
        "connect_info": "KernelMagics",
        "cp": "Other",
        "debug": "ExecutionMagics",
        "dhist": "OSMagics",
        "dirs": "OSMagics",
        "doctest_mode": "BasicMagics",
        "ed": "Other",
        "edit": "KernelMagics",
        "env": "OSMagics",
        "gui": "BasicMagics",
        "hist": "Other",
        "history": "HistoryMagics",
        "killbgscripts": "ScriptMagics",
        "ldir": "Other",
        "less": "KernelMagics",
        "lf": "Other",
        "lk": "Other",
        "ll": "Other",
        "load": "CodeMagics",
        "load_ext": "ExtensionMagics",
        "loadpy": "CodeMagics",
        "logoff": "LoggingMagics",
        "logon": "LoggingMagics",
        "logstart": "LoggingMagics",
        "logstate": "LoggingMagics",
        "logstop": "LoggingMagics",
        "ls": "Other",
        "lsmagic": "BasicMagics",
        "lx": "Other",
        "macro": "ExecutionMagics",
        "magic": "BasicMagics",
        "man": "KernelMagics",
        "matplotlib": "PylabMagics",
        "mkdir": "Other",
        "more": "KernelMagics",
        "mv": "Other",
        "notebook": "BasicMagics",
        "page": "BasicMagics",
        "pastebin": "CodeMagics",
        "pdb": "ExecutionMagics",
        "pdef": "NamespaceMagics",
        "pdoc": "NamespaceMagics",
        "pfile": "NamespaceMagics",
        "pinfo": "NamespaceMagics",
        "pinfo2": "NamespaceMagics",
        "pip": "PackagingMagics",
        "popd": "OSMagics",
        "pprint": "BasicMagics",
        "precision": "BasicMagics",
        "prun": "ExecutionMagics",
        "psearch": "NamespaceMagics",
        "psource": "NamespaceMagics",
        "pushd": "OSMagics",
        "pwd": "OSMagics",
        "pycat": "OSMagics",
        "pylab": "PylabMagics",
        "qtconsole": "KernelMagics",
        "quickref": "BasicMagics",
        "recall": "HistoryMagics",
        "rehashx": "OSMagics",
        "reload_ext": "ExtensionMagics",
        "rep": "Other",
        "rerun": "HistoryMagics",
        "reset": "NamespaceMagics",
        "reset_selective": "NamespaceMagics",
        "rm": "Other",
        "rmdir": "Other",
        "run": "ExecutionMagics",
        "save": "CodeMagics",
        "sc": "OSMagics",
        "set_env": "OSMagics",
        "store": "StoreMagics",
        "sx": "OSMagics",
        "system": "OSMagics",
        "tb": "ExecutionMagics",
        "time": "ExecutionMagics",
        "timeit": "ExecutionMagics",
        "unalias": "OSMagics",
        "unload_ext": "ExtensionMagics",
        "who": "NamespaceMagics",
        "who_ls": "NamespaceMagics",
        "whos": "NamespaceMagics",
        "xdel": "NamespaceMagics",
        "xmode": "BasicMagics"
       }
      },
      "text/plain": [
       "Available line magics:\n",
       "%alias  %alias_magic  %autoawait  %autocall  %automagic  %autosave  %bookmark  %cat  %cd  %clear  %colors  %conda  %config  %connect_info  %cp  %debug  %dhist  %dirs  %doctest_mode  %ed  %edit  %env  %gui  %hist  %history  %killbgscripts  %ldir  %less  %lf  %lk  %ll  %load  %load_ext  %loadpy  %logoff  %logon  %logstart  %logstate  %logstop  %ls  %lsmagic  %lx  %macro  %magic  %man  %matplotlib  %mkdir  %more  %mv  %notebook  %page  %pastebin  %pdb  %pdef  %pdoc  %pfile  %pinfo  %pinfo2  %pip  %popd  %pprint  %precision  %prun  %psearch  %psource  %pushd  %pwd  %pycat  %pylab  %qtconsole  %quickref  %recall  %rehashx  %reload_ext  %rep  %rerun  %reset  %reset_selective  %rm  %rmdir  %run  %save  %sc  %set_env  %store  %sx  %system  %tb  %time  %timeit  %unalias  %unload_ext  %who  %who_ls  %whos  %xdel  %xmode\n",
       "\n",
       "Available cell magics:\n",
       "%%!  %%HTML  %%SVG  %%bash  %%capture  %%debug  %%file  %%html  %%javascript  %%js  %%latex  %%markdown  %%perl  %%prun  %%pypy  %%python  %%python2  %%python3  %%ruby  %%script  %%sh  %%svg  %%sx  %%system  %%time  %%timeit  %%writefile\n",
       "\n",
       "Automagic is ON, % prefix IS NOT needed for line magics."
      ]
     },
     "execution_count": 6,
     "metadata": {},
     "output_type": "execute_result"
    }
   ],
   "source": [
    "%lsmagic"
   ]
  },
  {
   "cell_type": "code",
   "execution_count": 4,
   "metadata": {},
   "outputs": [
    {
     "name": "stdout",
     "output_type": "stream",
     "text": [
      "Hello Sunday\n"
     ]
    }
   ],
   "source": [
    "print(\"Hello Sunday\")"
   ]
  },
  {
   "cell_type": "code",
   "execution_count": 2,
   "metadata": {},
   "outputs": [
    {
     "name": "stdout",
     "output_type": "stream",
     "text": [
      "Hello, Python!\n"
     ]
    }
   ],
   "source": [
    "print(\"Hello, Python!\")"
   ]
  },
  {
   "cell_type": "markdown",
   "metadata": {},
   "source": [
    "## Exercise 1: Print the following string \"Learning Python for Data Science\""
   ]
  },
  {
   "cell_type": "code",
   "execution_count": 3,
   "metadata": {},
   "outputs": [
    {
     "data": {
      "application/javascript": [
       "Jupyter.notebook.execute_cells([2])"
      ],
      "text/plain": [
       "<IPython.core.display.Javascript object>"
      ]
     },
     "execution_count": 3,
     "metadata": {},
     "output_type": "execute_result"
    }
   ],
   "source": [
    "# Exercise 1 - write code in this cell and click on\n",
    "# \"->|\" below \"Cell\" to run your code in this cell.\n",
    "from IPython.display import Javascript\n",
    "Javascript(\"Jupyter.notebook.execute_cells([2])\")\n",
    "# Javascript(\"Jupyter.notebook.execute_cells([3])\")"
   ]
  },
  {
   "cell_type": "code",
   "execution_count": 5,
   "metadata": {},
   "outputs": [
    {
     "name": "stdout",
     "output_type": "stream",
     "text": [
      "100\n",
      "1000.0\n",
      "John\n",
      "1\n",
      "1\n",
      "1\n"
     ]
    }
   ],
   "source": [
    "counter = 100          # An integer assignment\n",
    "miles   = 1000.0       # A floating point\n",
    "name    = \"John\"       # A string\n",
    "\n",
    "print(f\"{counter}\")\n",
    "print(miles)\n",
    "print(name)\n",
    "\n",
    "a = b = c = 1\n",
    "print(a)\n",
    "print(b)\n",
    "print(c)"
   ]
  },
  {
   "cell_type": "markdown",
   "metadata": {},
   "source": [
    "### --- Exrecise 2\n",
    "### Create variables with your first_name and last_name\n",
    "### print first_name and last_name"
   ]
  },
  {
   "cell_type": "code",
   "execution_count": 12,
   "metadata": {},
   "outputs": [],
   "source": [
    "# Exercise 2 - Python code\n",
    "first_name = \"Sudhakar\"\n",
    "last_name = \"Balakrishnan\""
   ]
  },
  {
   "cell_type": "code",
   "execution_count": 9,
   "metadata": {},
   "outputs": [
    {
     "name": "stdout",
     "output_type": "stream",
     "text": [
      "Machine Learning class is on eight Saturday 10am at Learning Center\n"
     ]
    }
   ],
   "source": [
    "# Exercise 2b -- write code in this cell and click on \"->|\" below \"Cell\" \n",
    "# to run your code in this cell.\n",
    "# Initialise following variables:\n",
    "class_name = \"Machine Learning\"\n",
    "which_day = \"Saturday\"\n",
    "Num_days = \"eight\"\n",
    "Class_timings = \"10am\"\n",
    "Location = \"Learning Center\"\n",
    "# You want to print the following string:\n",
    "# \"ML class is on eight Saturdays at Lynbrook\"\n",
    "print(f\"{class_name} class is on {Num_days} {which_day} {Class_timings} at {Location}\")"
   ]
  },
  {
   "cell_type": "code",
   "execution_count": 10,
   "metadata": {},
   "outputs": [
    {
     "name": "stdout",
     "output_type": "stream",
     "text": [
      "Hello World!\n",
      "H\n",
      "llo W\n",
      "llo World!\n",
      "Hello World!Hello World!\n",
      "Hello World! TEST\n",
      "!\n",
      "ld!\n"
     ]
    }
   ],
   "source": [
    "str = 'Hello World!'\n",
    "\n",
    "a = str\n",
    "b = str[0]\n",
    "c = str[2:7]\n",
    "d = str[2:]\n",
    "e = str * 2\n",
    "f = str + \" \" + \"TEST\"\n",
    "g = str[-1]\n",
    "h = str[-3:]\n",
    "print(a)          # Prints complete string\n",
    "print(b)       # Prints first character of the string\n",
    "print(c)     # Prints characters starting from 3rd to 5th\n",
    "print(d)      # Prints string starting from 3rd character\n",
    "print(e)      # Prints string two times\n",
    "print(f) # Prints concatenated string\n",
    "print(g)\n",
    "print(h)"
   ]
  },
  {
   "cell_type": "markdown",
   "metadata": {},
   "source": [
    "### --- Exercise 3 \n",
    "### print first two characters of first_name and last two characters of last_name"
   ]
  },
  {
   "cell_type": "code",
   "execution_count": 17,
   "metadata": {},
   "outputs": [
    {
     "name": "stdout",
     "output_type": "stream",
     "text": [
      "S B \n"
     ]
    }
   ],
   "source": [
    "# Exercise 3 - write code in this cell \n",
    "# You want to extract first letter from first_name, middle_name, and last_name\n",
    "print(f\"{first_name[0]} {last_name[0]} \")"
   ]
  },
  {
   "cell_type": "code",
   "execution_count": 18,
   "metadata": {},
   "outputs": [
    {
     "name": "stdout",
     "output_type": "stream",
     "text": [
      "['abcd', 786, 2.23, 'john', 70.2]\n",
      "abcd\n",
      "[786, 2.23]\n",
      "[2.23, 'john', 70.2]\n"
     ]
    }
   ],
   "source": [
    "###########################################################\n",
    "## Python Lists\n",
    "###########################################################\n",
    "list = [ 'abcd', 786 , 2.23, 'john', 70.2 ]\n",
    "\n",
    "print(list)          # Prints complete list\n",
    "print(list[0])       # Prints first element of the list\n",
    "print(list[1:3])     # Prints elements starting from 2nd till 3rd \n",
    "print(list[-3:])"
   ]
  },
  {
   "cell_type": "markdown",
   "metadata": {},
   "source": [
    "## Exercise 4 -- Lists\n",
    "## Define a new Python list \"new_list\" and initialize it with \"1\",\"A\",\"2\",\"B\",\"3\",\"C\"\n",
    "## Print values with alternate indices 0,2,4 and 1,3,5"
   ]
  },
  {
   "cell_type": "code",
   "execution_count": 21,
   "metadata": {},
   "outputs": [
    {
     "name": "stdout",
     "output_type": "stream",
     "text": [
      "['1', '2', '3']\n",
      "['A', 'B', 'C']\n"
     ]
    }
   ],
   "source": [
    "## Write code for Exercise 4 in this cell\n",
    "new_list = [\"1\",\"A\",\"2\",\"B\",\"3\",\"C\"]\n",
    "print(new_list[0:6:2])\n",
    "print(new_list[1:6:2])"
   ]
  },
  {
   "cell_type": "code",
   "execution_count": 22,
   "metadata": {},
   "outputs": [
    {
     "name": "stdout",
     "output_type": "stream",
     "text": [
      "('abcde', 786, 2.23, 'john', 70.2)\n",
      "abcde\n",
      "(786, 2.23)\n"
     ]
    }
   ],
   "source": [
    "###########################################################\n",
    "## Python Tuples\n",
    "###########################################################\n",
    "tuple = ('abcd', 786 , 2.23, 'john', 70.2 )\n",
    "tuple = ('abcde', 786 , 2.23, 'john', 70.2 )\n",
    "print(tuple)          # Prints complete list\n",
    "print(tuple[0])       # Prints first element of the list\n",
    "print(tuple[1:3])     # Prints elements starting from 2nd till 3rd "
   ]
  },
  {
   "cell_type": "code",
   "execution_count": 23,
   "metadata": {},
   "outputs": [
    {
     "name": "stdout",
     "output_type": "stream",
     "text": [
      "3 - Got a true expression value\n",
      "100\n"
     ]
    }
   ],
   "source": [
    "## Decisions in Python\n",
    "var = 100\n",
    "if var == 2000:\n",
    "   print(\"1 - Got a true expression value\")\n",
    "   print(var)\n",
    "elif var == 150:\n",
    "   print(\"2 - Got a true expression value\")\n",
    "   print(var)\n",
    "elif var == 100:\n",
    "   print(\"3 - Got a true expression value\")\n",
    "   print(var)\n",
    "elif var == \"Sunnyvale\":\n",
    "    print(\"var is Sunnyvale\")\n",
    "else:\n",
    "   print(\"4 - Got a false expression value\")\n",
    "   print(var)"
   ]
  },
  {
   "cell_type": "markdown",
   "metadata": {},
   "source": [
    "### Exercise 5 - if .. elif .. else\n",
    "### Initialize string state_name to be \"California\" or \"Texas\"\n",
    "### write if ... elif ... else checking state_name \n",
    "### to print if state_name is Golden State or Lone Star state\n",
    "### default else to printing \"Not Golden State or Lone Star state\" "
   ]
  },
  {
   "cell_type": "code",
   "execution_count": 24,
   "metadata": {},
   "outputs": [
    {
     "name": "stdout",
     "output_type": "stream",
     "text": [
      "Golden State\n"
     ]
    }
   ],
   "source": [
    "# Write code for Exercise 5 in this box\n",
    "state_name = \"California\"\n",
    "\n",
    "if state_name == \"California\":\n",
    "    print(\"Golden State\")\n",
    "elif state_name == \"Texas\":\n",
    "    print(\"Lone Star State\")\n",
    "else:\n",
    "    print(\"Not Golden State or Lone Star State\")"
   ]
  },
  {
   "cell_type": "code",
   "execution_count": 25,
   "metadata": {},
   "outputs": [
    {
     "name": "stdout",
     "output_type": "stream",
     "text": [
      "The count is: 0\n",
      "The count is: 1\n",
      "The count is: 2\n",
      "The count is: 3\n",
      "The count is: 4\n",
      "The count is: 5\n",
      "The count is: 6\n",
      "The count is: 7\n",
      "The count is: 8\n",
      "Current Letter : P\n",
      "Current Letter : y\n",
      "Current Letter : t\n",
      "Current Letter : h\n",
      "Current Letter : o\n",
      "Current Letter : n\n",
      "Current fruit : banana\n",
      "Current fruit : apple\n",
      "Current fruit : mango\n",
      "['tesla', 'toyota', 'honda']\n"
     ]
    }
   ],
   "source": [
    "## For and while Loops\n",
    "## while loop\n",
    "count = 0\n",
    "while (count < 9):\n",
    "   print('The count is:', count)\n",
    "   count += 1\n",
    "\n",
    "## for loop\n",
    "for letter in 'Python':     # First Example\n",
    "   print('Current Letter :', letter)\n",
    "\n",
    "fruits = ['banana', 'apple',  'mango']\n",
    "for fruit in fruits:        # Second Example\n",
    "   print('Current fruit :', fruit)\n",
    "\n",
    "cars = [\"honda\",\"toyota\",\"tesla\"]\n",
    "cars.reverse()\n",
    "print(cars)"
   ]
  },
  {
   "cell_type": "markdown",
   "metadata": {},
   "source": [
    "### Exercise 6 -- print fruits in reverse order\n",
    "### mango\n",
    "### apple\n",
    "### banana"
   ]
  },
  {
   "cell_type": "code",
   "execution_count": 27,
   "metadata": {},
   "outputs": [
    {
     "name": "stdout",
     "output_type": "stream",
     "text": [
      "['mango', 'apple', 'banana']\n"
     ]
    }
   ],
   "source": [
    "# Write code for Exercise 6 in this cell\n",
    "print(fruits[::-1])"
   ]
  },
  {
   "cell_type": "code",
   "execution_count": 28,
   "metadata": {},
   "outputs": [
    {
     "name": "stdout",
     "output_type": "stream",
     "text": [
      "Cats\n",
      "smarter\n",
      "dogs\n"
     ]
    }
   ],
   "source": [
    "## Regular expressions\n",
    "import re\n",
    "\n",
    "line = \"Cats are smarter than dogs\"\n",
    "\n",
    "## Matching using re\n",
    "matchObj = re.match('(.*) are (.*) than (.*)',line,re.M|re.I)\n",
    "\n",
    "print(matchObj.group(1))\n",
    "print(matchObj.group(2))\n",
    "print(matchObj.group(3))"
   ]
  },
  {
   "cell_type": "code",
   "execution_count": 29,
   "metadata": {},
   "outputs": [
    {
     "name": "stdout",
     "output_type": "stream",
     "text": [
      "Phone Num :  4002-959-559 # This is Phone Number\n"
     ]
    }
   ],
   "source": [
    "## search and replace\n",
    "phone = \"2004-959-559 # This is Phone Number\"\n",
    "\n",
    "# make 2004 to be 4002\n",
    "num = re.sub(\"2004\",\"4002\", phone) # this is comment   \n",
    "print(\"Phone Num : \", num)"
   ]
  },
  {
   "cell_type": "code",
   "execution_count": 30,
   "metadata": {},
   "outputs": [
    {
     "name": "stdout",
     "output_type": "stream",
     "text": [
      "14\n",
      "15\n",
      "14\n",
      "110\n"
     ]
    }
   ],
   "source": [
    "## Functions in Python\n",
    "def add_numbers(a=5,b=10):\n",
    "    c = a + b\n",
    "    return c\n",
    "\n",
    "result = add_numbers(2,12)\n",
    "print(result)\n",
    "result = add_numbers()\n",
    "print(result)\n",
    "result = add_numbers(2,12)\n",
    "print(result)\n",
    "result = add_numbers(100)\n",
    "print(result)"
   ]
  },
  {
   "cell_type": "markdown",
   "metadata": {},
   "source": [
    "### Exercise 7 -- functions -- \n",
    "### write function to find a^2 + b^2 given a and b\n",
    "### def square_and_sum(a,b)\n",
    "###\n",
    "### write function to add strings \n",
    "### def add_strings(str1,str2)\n",
    "### when a = \"Hello\" and b = \"World\", it should return \"Hello World!!!\" with space and !!!. "
   ]
  },
  {
   "cell_type": "code",
   "execution_count": 32,
   "metadata": {},
   "outputs": [
    {
     "name": "stdout",
     "output_type": "stream",
     "text": [
      "50\n"
     ]
    }
   ],
   "source": [
    "# Write code for Exercise 7 in this cell\n",
    "\n",
    "def square_and_sum(a,b):\n",
    "    return a**2 + b**2\n",
    "\n",
    "print(square_and_sum(5, 5))"
   ]
  },
  {
   "cell_type": "code",
   "execution_count": 34,
   "metadata": {},
   "outputs": [
    {
     "name": "stdout",
     "output_type": "stream",
     "text": [
      "Hello World!!!\n"
     ]
    }
   ],
   "source": [
    "def add_strings(str1,str2):\n",
    "    return str1 + \" \" + str2 + \"!!!\"\n",
    "\n",
    "print(add_strings(\"Hello\", \"World\"))"
   ]
  },
  {
   "cell_type": "code",
   "execution_count": 35,
   "metadata": {},
   "outputs": [
    {
     "name": "stdout",
     "output_type": "stream",
     "text": [
      "0\n",
      "1\n",
      "2\n",
      "3\n",
      "4\n",
      "5\n",
      "6\n",
      "7\n",
      "8\n",
      "9\n"
     ]
    }
   ],
   "source": [
    "for x in range(10): \n",
    "    print(x)"
   ]
  },
  {
   "cell_type": "code",
   "execution_count": 36,
   "metadata": {},
   "outputs": [
    {
     "name": "stdout",
     "output_type": "stream",
     "text": [
      "1\n",
      "3\n",
      "5\n"
     ]
    }
   ],
   "source": [
    "# range also follows the format range(start_value,stop_value,step_value)\n",
    "for x in range(1,6,2):\n",
    "    print(x)"
   ]
  },
  {
   "cell_type": "markdown",
   "metadata": {},
   "source": [
    "### Exercise 8 -- using range\n",
    "### print numbers 10, 9, 8, ..., 1"
   ]
  },
  {
   "cell_type": "code",
   "execution_count": 42,
   "metadata": {},
   "outputs": [
    {
     "name": "stdout",
     "output_type": "stream",
     "text": [
      "10, 9, 8, 7, 6, 5, 4, 3, 2, 1, "
     ]
    }
   ],
   "source": [
    "# Write code for Exercise 8 in this cell\n",
    "for _ in range(10,0,-1):\n",
    "    print(_, end=\", \")"
   ]
  },
  {
   "cell_type": "code",
   "execution_count": 43,
   "metadata": {},
   "outputs": [
    {
     "name": "stdout",
     "output_type": "stream",
     "text": [
      "[1, 11, 111]\n",
      "list1-a = [1, 11, 111, 1111]\n",
      "list1-b = [1, 11, 111, 1111, 2, 22, 222]\n",
      "list1-c = [1, 11, 111, 1111, 2, 22]\n",
      "list1-d = [1, 2, 11, 22, 111, 1111]\n",
      "list1-e = [1111, 111, 22, 11, 2, 1]\n"
     ]
    }
   ],
   "source": [
    "## Appending and extending Python lists\n",
    "list1 = [1,11,111]\n",
    "list2 = [2,22,222]\n",
    "\n",
    "print(list1)\n",
    "\n",
    "list1.append(1111)\n",
    "print(\"list1-a = %s\" % list1)\n",
    "\n",
    "list1.extend(list2)\n",
    "print(\"list1-b = %s\" % list1)\n",
    "\n",
    "list1.remove(222)\n",
    "print(\"list1-c = %s\" % list1)\n",
    "\n",
    "list1.sort()\n",
    "print(\"list1-d = %s\" % list1)\n",
    "\n",
    "list1.sort(reverse=True)\n",
    "print(\"list1-e = %s\" % list1)"
   ]
  },
  {
   "cell_type": "markdown",
   "metadata": {},
   "source": [
    "### Exercise 9 -- lists with strings\n",
    "### Initialize states_list with California, Texas, Arizona\n",
    "### step 1: Add Florida\n",
    "### step 2: Remove Texas\n",
    "### step 3: Sort ascending order\n",
    "### step 4: Sort descending order"
   ]
  },
  {
   "cell_type": "code",
   "execution_count": 52,
   "metadata": {},
   "outputs": [
    {
     "name": "stdout",
     "output_type": "stream",
     "text": [
      "['California', 'Arizona', 'Florida']\n",
      "['Arizona', 'California', 'Florida']\n",
      "['Florida', 'California', 'Arizona']\n"
     ]
    }
   ],
   "source": [
    "# Write code for Exercise 9 in this cell\n",
    "states_list = ['California', 'Texas', 'Arizona']\n",
    "states_list.append('Florida')\n",
    "states_list.remove('Texas')\n",
    "print(states_list)\n",
    "\n",
    "states_list.sort()\n",
    "print(states_list)\n",
    "\n",
    "states_list.sort(reverse=True)\n",
    "print(states_list)"
   ]
  },
  {
   "cell_type": "code",
   "execution_count": 53,
   "metadata": {},
   "outputs": [
    {
     "name": "stdout",
     "output_type": "stream",
     "text": [
      "2.5\n",
      "2.5\n",
      "2\n",
      "2.0\n"
     ]
    }
   ],
   "source": [
    "## Integer and floating division\n",
    "def div1(x,y):\n",
    "    print(x/y)\n",
    "    \n",
    "def div2(x,y):\n",
    "    print(x//y) # integer division\n",
    "\n",
    "div1(5,2)\n",
    "div1(5.,2)\n",
    "div2(5,2)\n",
    "div2(5.,2.)"
   ]
  },
  {
   "cell_type": "code",
   "execution_count": 54,
   "metadata": {},
   "outputs": [
    {
     "name": "stdout",
     "output_type": "stream",
     "text": [
      "2\n"
     ]
    }
   ],
   "source": [
    "rem = 10 % 4\n",
    "print(rem)"
   ]
  },
  {
   "cell_type": "code",
   "execution_count": 55,
   "metadata": {},
   "outputs": [
    {
     "name": "stdout",
     "output_type": "stream",
     "text": [
      "5\n",
      "2\n",
      "4\n",
      "2\n"
     ]
    }
   ],
   "source": [
    "import numpy as np\n",
    "# Printing list length\n",
    "list = ['a', 'b', 'c', 'd', 'e']\n",
    "print(len(list))\n",
    "lista = [[1,2,3,4],[3,4]]\n",
    "print(lista[0][1])\n",
    "print(len(lista[0]))\n",
    "sizea = np.size(lista)\n",
    "print(sizea)"
   ]
  },
  {
   "cell_type": "code",
   "execution_count": 56,
   "metadata": {},
   "outputs": [
    {
     "name": "stdout",
     "output_type": "stream",
     "text": [
      "1-- 1\n",
      "2-- -1\n",
      "3-- 1\n",
      "4-- 7\n",
      "zz liforni\n"
     ]
    }
   ],
   "source": [
    "state_name = \"California\"\n",
    "find_str = state_name.find(\"a\")\n",
    "print(\"1--\",find_str)\n",
    "\n",
    "find_str = state_name.find(\"z\")\n",
    "print(\"2--\",find_str)\n",
    "\n",
    "count_str = state_name.count(\"a\",0,4)\n",
    "print(\"3--\",count_str)\n",
    "\n",
    "find_str = state_name.find(\"nia\")\n",
    "print(\"4--\",find_str)\n",
    "\n",
    "print(\"zz\",state_name[2:state_name.find(\"z\")])"
   ]
  },
  {
   "cell_type": "markdown",
   "metadata": {},
   "source": [
    "### Exercise 10 -- find, count --- define the string Albert_Einstein\n",
    "### Albert_Einstein = \"Life is like riding a bicycle. To keep your balance you must keep moving.\"\n",
    "### Find number of occurences for: you, ing, life (all case sensitive)"
   ]
  },
  {
   "cell_type": "code",
   "execution_count": 61,
   "metadata": {},
   "outputs": [
    {
     "name": "stdout",
     "output_type": "stream",
     "text": [
      "2\n",
      "2\n",
      "0\n"
     ]
    }
   ],
   "source": [
    "# Write code for Wxercise 10 in this cell\n",
    "Albert_Einstein = \"Life is like riding a bicycle. To keep your balance you must keep moving.\"\n",
    "print(Albert_Einstein.count(\"you\"))\n",
    "print(Albert_Einstein.count(\"ing\"))\n",
    "print(Albert_Einstein.count(\"life\"))"
   ]
  },
  {
   "cell_type": "code",
   "execution_count": 62,
   "metadata": {},
   "outputs": [
    {
     "name": "stdout",
     "output_type": "stream",
     "text": [
      "['This', 'is', 'Learning', 'Center', 'in', 'in', 'Sunnyvale']\n",
      "This is Learning Center in in Sunnyvale\n",
      "{'This': 0, 'is': 0, 'Learning': 0, 'Center': 0, 'in': 0, 'Sunnyvale': 0}\n",
      "{'This': 1, 'is': 1, 'Learning': 1, 'Center': 1, 'in': 2, 'Sunnyvale': 1}\n"
     ]
    }
   ],
   "source": [
    "# Splitting strings\n",
    "ss = \"This is Learning Center in in Sunnyvale\"\n",
    "\n",
    "words = ss.split()\n",
    "print(words)\n",
    "\n",
    "ss1 = \" \".join(words)\n",
    "print(ss1)\n",
    "\n",
    "d = {}\n",
    "# Dictionaries\n",
    "d = {}.fromkeys(words,0)\n",
    "print(d)\n",
    "for w in words:\n",
    "    d[w] += 1\n",
    "print(d)"
   ]
  },
  {
   "cell_type": "code",
   "execution_count": 63,
   "metadata": {},
   "outputs": [],
   "source": [
    "## Reading csv files\n",
    "def read_file(filename):\n",
    "    file_open = open(filename,\"r\")\n",
    "    data_array = []\n",
    "    for line in iter(file_open):\n",
    "        line_no_newline = line.rstrip()\n",
    "        line_split = line_no_newline.split(\",\")\n",
    "        fn = line_split[0]\n",
    "        work = line_split[2]\n",
    "        concat = [fn,work]\n",
    "        data_array.append(concat)\n",
    "    return data_array"
   ]
  },
  {
   "cell_type": "code",
   "execution_count": 64,
   "metadata": {},
   "outputs": [
    {
     "name": "stdout",
     "output_type": "stream",
     "text": [
      "[['jack', 'engineer'], ['emily', 'ceo'], ['zen', 'school_a'], ['liz', 'school_b']]\n"
     ]
    }
   ],
   "source": [
    "array1 = read_file(\"family.csv\")\n",
    "print(array1)"
   ]
  },
  {
   "cell_type": "code",
   "execution_count": 65,
   "metadata": {},
   "outputs": [
    {
     "name": "stdout",
     "output_type": "stream",
     "text": [
      "    name      work\n",
      "0   jack  engineer\n",
      "1  emily       ceo\n",
      "2    zen  school_a\n",
      "3    liz  school_b\n"
     ]
    }
   ],
   "source": [
    "import pandas as pd\n",
    "family_header=[\"name\",\"work\"]\n",
    "df = pd.DataFrame(array1,columns=family_header)\n",
    "print(df)"
   ]
  },
  {
   "cell_type": "markdown",
   "metadata": {},
   "source": [
    "# Regression example in Machine Learning"
   ]
  },
  {
   "cell_type": "code",
   "execution_count": 66,
   "metadata": {},
   "outputs": [],
   "source": [
    "import matplotlib.pyplot as plt\n",
    "import sklearn\n",
    "%matplotlib inline"
   ]
  },
  {
   "cell_type": "code",
   "execution_count": 67,
   "metadata": {},
   "outputs": [],
   "source": [
    "import pandas as pd\n",
    "df = pd.read_csv(\"SoSJ_housing_data.csv\")"
   ]
  },
  {
   "cell_type": "code",
   "execution_count": 68,
   "metadata": {},
   "outputs": [
    {
     "data": {
      "text/html": [
       "<div>\n",
       "<style scoped>\n",
       "    .dataframe tbody tr th:only-of-type {\n",
       "        vertical-align: middle;\n",
       "    }\n",
       "\n",
       "    .dataframe tbody tr th {\n",
       "        vertical-align: top;\n",
       "    }\n",
       "\n",
       "    .dataframe thead th {\n",
       "        text-align: right;\n",
       "    }\n",
       "</style>\n",
       "<table border=\"1\" class=\"dataframe\">\n",
       "  <thead>\n",
       "    <tr style=\"text-align: right;\">\n",
       "      <th></th>\n",
       "      <th>HomeAge</th>\n",
       "      <th>HomeSqft</th>\n",
       "      <th>LotSize</th>\n",
       "      <th>BedRooms</th>\n",
       "      <th>HighSchoolAPI</th>\n",
       "      <th>ProxFwy</th>\n",
       "      <th>CarGarage</th>\n",
       "      <th>HomePriceK</th>\n",
       "    </tr>\n",
       "  </thead>\n",
       "  <tbody>\n",
       "    <tr>\n",
       "      <th>0</th>\n",
       "      <td>14</td>\n",
       "      <td>1617</td>\n",
       "      <td>8394</td>\n",
       "      <td>2</td>\n",
       "      <td>851</td>\n",
       "      <td>2</td>\n",
       "      <td>0</td>\n",
       "      <td>1138</td>\n",
       "    </tr>\n",
       "    <tr>\n",
       "      <th>1</th>\n",
       "      <td>13</td>\n",
       "      <td>1358</td>\n",
       "      <td>6819</td>\n",
       "      <td>2</td>\n",
       "      <td>851</td>\n",
       "      <td>3</td>\n",
       "      <td>2</td>\n",
       "      <td>859</td>\n",
       "    </tr>\n",
       "    <tr>\n",
       "      <th>2</th>\n",
       "      <td>22</td>\n",
       "      <td>1724</td>\n",
       "      <td>7339</td>\n",
       "      <td>3</td>\n",
       "      <td>975</td>\n",
       "      <td>3</td>\n",
       "      <td>3</td>\n",
       "      <td>1038</td>\n",
       "    </tr>\n",
       "    <tr>\n",
       "      <th>3</th>\n",
       "      <td>12</td>\n",
       "      <td>1943</td>\n",
       "      <td>7249</td>\n",
       "      <td>2</td>\n",
       "      <td>974</td>\n",
       "      <td>2</td>\n",
       "      <td>0</td>\n",
       "      <td>1030</td>\n",
       "    </tr>\n",
       "    <tr>\n",
       "      <th>4</th>\n",
       "      <td>13</td>\n",
       "      <td>1836</td>\n",
       "      <td>7027</td>\n",
       "      <td>2</td>\n",
       "      <td>966</td>\n",
       "      <td>3</td>\n",
       "      <td>3</td>\n",
       "      <td>914</td>\n",
       "    </tr>\n",
       "  </tbody>\n",
       "</table>\n",
       "</div>"
      ],
      "text/plain": [
       "   HomeAge  HomeSqft  LotSize  BedRooms  HighSchoolAPI  ProxFwy  CarGarage  \\\n",
       "0       14      1617     8394         2            851        2          0   \n",
       "1       13      1358     6819         2            851        3          2   \n",
       "2       22      1724     7339         3            975        3          3   \n",
       "3       12      1943     7249         2            974        2          0   \n",
       "4       13      1836     7027         2            966        3          3   \n",
       "\n",
       "   HomePriceK  \n",
       "0        1138  \n",
       "1         859  \n",
       "2        1038  \n",
       "3        1030  \n",
       "4         914  "
      ]
     },
     "execution_count": 68,
     "metadata": {},
     "output_type": "execute_result"
    }
   ],
   "source": [
    "df.head()"
   ]
  },
  {
   "cell_type": "code",
   "execution_count": 69,
   "metadata": {},
   "outputs": [
    {
     "data": {
      "text/html": [
       "<div>\n",
       "<style scoped>\n",
       "    .dataframe tbody tr th:only-of-type {\n",
       "        vertical-align: middle;\n",
       "    }\n",
       "\n",
       "    .dataframe tbody tr th {\n",
       "        vertical-align: top;\n",
       "    }\n",
       "\n",
       "    .dataframe thead th {\n",
       "        text-align: right;\n",
       "    }\n",
       "</style>\n",
       "<table border=\"1\" class=\"dataframe\">\n",
       "  <thead>\n",
       "    <tr style=\"text-align: right;\">\n",
       "      <th></th>\n",
       "      <th>HomeAge</th>\n",
       "      <th>HomeSqft</th>\n",
       "      <th>LotSize</th>\n",
       "      <th>BedRooms</th>\n",
       "      <th>HighSchoolAPI</th>\n",
       "      <th>ProxFwy</th>\n",
       "      <th>CarGarage</th>\n",
       "      <th>HomePriceK</th>\n",
       "    </tr>\n",
       "  </thead>\n",
       "  <tbody>\n",
       "    <tr>\n",
       "      <th>95</th>\n",
       "      <td>18</td>\n",
       "      <td>1866</td>\n",
       "      <td>7181</td>\n",
       "      <td>2</td>\n",
       "      <td>854</td>\n",
       "      <td>2</td>\n",
       "      <td>3</td>\n",
       "      <td>1049</td>\n",
       "    </tr>\n",
       "    <tr>\n",
       "      <th>96</th>\n",
       "      <td>10</td>\n",
       "      <td>1246</td>\n",
       "      <td>6810</td>\n",
       "      <td>2</td>\n",
       "      <td>853</td>\n",
       "      <td>4</td>\n",
       "      <td>3</td>\n",
       "      <td>942</td>\n",
       "    </tr>\n",
       "    <tr>\n",
       "      <th>97</th>\n",
       "      <td>17</td>\n",
       "      <td>1881</td>\n",
       "      <td>8921</td>\n",
       "      <td>3</td>\n",
       "      <td>852</td>\n",
       "      <td>2</td>\n",
       "      <td>0</td>\n",
       "      <td>1194</td>\n",
       "    </tr>\n",
       "    <tr>\n",
       "      <th>98</th>\n",
       "      <td>17</td>\n",
       "      <td>1373</td>\n",
       "      <td>8953</td>\n",
       "      <td>2</td>\n",
       "      <td>851</td>\n",
       "      <td>2</td>\n",
       "      <td>0</td>\n",
       "      <td>1190</td>\n",
       "    </tr>\n",
       "    <tr>\n",
       "      <th>99</th>\n",
       "      <td>15</td>\n",
       "      <td>1828</td>\n",
       "      <td>6956</td>\n",
       "      <td>3</td>\n",
       "      <td>851</td>\n",
       "      <td>4</td>\n",
       "      <td>3</td>\n",
       "      <td>916</td>\n",
       "    </tr>\n",
       "  </tbody>\n",
       "</table>\n",
       "</div>"
      ],
      "text/plain": [
       "    HomeAge  HomeSqft  LotSize  BedRooms  HighSchoolAPI  ProxFwy  CarGarage  \\\n",
       "95       18      1866     7181         2            854        2          3   \n",
       "96       10      1246     6810         2            853        4          3   \n",
       "97       17      1881     8921         3            852        2          0   \n",
       "98       17      1373     8953         2            851        2          0   \n",
       "99       15      1828     6956         3            851        4          3   \n",
       "\n",
       "    HomePriceK  \n",
       "95        1049  \n",
       "96         942  \n",
       "97        1194  \n",
       "98        1190  \n",
       "99         916  "
      ]
     },
     "execution_count": 69,
     "metadata": {},
     "output_type": "execute_result"
    }
   ],
   "source": [
    "df.tail()"
   ]
  },
  {
   "cell_type": "code",
   "execution_count": 70,
   "metadata": {},
   "outputs": [],
   "source": [
    "_ = \"\"\"\n",
    "Dataset description\n",
    "1) HomeAge = Age of home in years\n",
    "2) HomeSqft = Square footage of home\n",
    "3) LotSize = LotSize\n",
    "4) BedRooms = Num bedrooms as per county data\n",
    "5) HighSchoolAPI = API for nearest high school\n",
    "6) ProxFwy = Distance in miles to Freeway\n",
    "7) CarGarage = Number of cars in garage; 0 = no garage\n",
    "\n",
    "Y) HomePriceK = Home price in $K (Target)\n",
    "\n",
    "7 X Variables; 1 Y variable (Target)\n",
    "\n",
    "Data Points = 100\n",
    "\"\"\""
   ]
  },
  {
   "cell_type": "code",
   "execution_count": 75,
   "metadata": {},
   "outputs": [
    {
     "name": "stdout",
     "output_type": "stream",
     "text": [
      "<class 'pandas.core.frame.DataFrame'>\n",
      "RangeIndex: 100 entries, 0 to 99\n",
      "Data columns (total 8 columns):\n",
      "HomeAge          100 non-null int64\n",
      "HomeSqft         100 non-null int64\n",
      "LotSize          100 non-null int64\n",
      "BedRooms         100 non-null int64\n",
      "HighSchoolAPI    100 non-null int64\n",
      "ProxFwy          100 non-null int64\n",
      "CarGarage        100 non-null int64\n",
      "HomePriceK       100 non-null int64\n",
      "dtypes: int64(8)\n",
      "memory usage: 6.4 KB\n"
     ]
    }
   ],
   "source": [
    "df.info()"
   ]
  },
  {
   "cell_type": "code",
   "execution_count": 71,
   "metadata": {},
   "outputs": [
    {
     "data": {
      "text/html": [
       "<div>\n",
       "<style scoped>\n",
       "    .dataframe tbody tr th:only-of-type {\n",
       "        vertical-align: middle;\n",
       "    }\n",
       "\n",
       "    .dataframe tbody tr th {\n",
       "        vertical-align: top;\n",
       "    }\n",
       "\n",
       "    .dataframe thead th {\n",
       "        text-align: right;\n",
       "    }\n",
       "</style>\n",
       "<table border=\"1\" class=\"dataframe\">\n",
       "  <thead>\n",
       "    <tr style=\"text-align: right;\">\n",
       "      <th></th>\n",
       "      <th>HomeAge</th>\n",
       "      <th>HomeSqft</th>\n",
       "      <th>LotSize</th>\n",
       "      <th>BedRooms</th>\n",
       "      <th>HighSchoolAPI</th>\n",
       "      <th>ProxFwy</th>\n",
       "      <th>CarGarage</th>\n",
       "      <th>HomePriceK</th>\n",
       "    </tr>\n",
       "  </thead>\n",
       "  <tbody>\n",
       "    <tr>\n",
       "      <th>count</th>\n",
       "      <td>100.000000</td>\n",
       "      <td>100.000000</td>\n",
       "      <td>100.000000</td>\n",
       "      <td>100.00000</td>\n",
       "      <td>100.000000</td>\n",
       "      <td>100.000000</td>\n",
       "      <td>100.000000</td>\n",
       "      <td>100.000000</td>\n",
       "    </tr>\n",
       "    <tr>\n",
       "      <th>mean</th>\n",
       "      <td>17.200000</td>\n",
       "      <td>1615.280000</td>\n",
       "      <td>7840.500000</td>\n",
       "      <td>2.71000</td>\n",
       "      <td>904.610000</td>\n",
       "      <td>3.100000</td>\n",
       "      <td>1.520000</td>\n",
       "      <td>1080.990000</td>\n",
       "    </tr>\n",
       "    <tr>\n",
       "      <th>std</th>\n",
       "      <td>4.925711</td>\n",
       "      <td>231.759719</td>\n",
       "      <td>1046.107306</td>\n",
       "      <td>0.71485</td>\n",
       "      <td>36.166253</td>\n",
       "      <td>0.758787</td>\n",
       "      <td>1.234848</td>\n",
       "      <td>146.533583</td>\n",
       "    </tr>\n",
       "    <tr>\n",
       "      <th>min</th>\n",
       "      <td>10.000000</td>\n",
       "      <td>1215.000000</td>\n",
       "      <td>6056.000000</td>\n",
       "      <td>2.00000</td>\n",
       "      <td>851.000000</td>\n",
       "      <td>2.000000</td>\n",
       "      <td>0.000000</td>\n",
       "      <td>809.000000</td>\n",
       "    </tr>\n",
       "    <tr>\n",
       "      <th>25%</th>\n",
       "      <td>12.750000</td>\n",
       "      <td>1411.500000</td>\n",
       "      <td>7024.250000</td>\n",
       "      <td>2.00000</td>\n",
       "      <td>875.750000</td>\n",
       "      <td>3.000000</td>\n",
       "      <td>0.000000</td>\n",
       "      <td>940.000000</td>\n",
       "    </tr>\n",
       "    <tr>\n",
       "      <th>50%</th>\n",
       "      <td>17.000000</td>\n",
       "      <td>1606.500000</td>\n",
       "      <td>7822.000000</td>\n",
       "      <td>3.00000</td>\n",
       "      <td>901.500000</td>\n",
       "      <td>3.000000</td>\n",
       "      <td>2.000000</td>\n",
       "      <td>1100.000000</td>\n",
       "    </tr>\n",
       "    <tr>\n",
       "      <th>75%</th>\n",
       "      <td>21.250000</td>\n",
       "      <td>1836.000000</td>\n",
       "      <td>8839.250000</td>\n",
       "      <td>3.00000</td>\n",
       "      <td>936.000000</td>\n",
       "      <td>4.000000</td>\n",
       "      <td>3.000000</td>\n",
       "      <td>1191.000000</td>\n",
       "    </tr>\n",
       "    <tr>\n",
       "      <th>max</th>\n",
       "      <td>25.000000</td>\n",
       "      <td>1994.000000</td>\n",
       "      <td>9476.000000</td>\n",
       "      <td>4.00000</td>\n",
       "      <td>975.000000</td>\n",
       "      <td>4.000000</td>\n",
       "      <td>3.000000</td>\n",
       "      <td>1336.000000</td>\n",
       "    </tr>\n",
       "  </tbody>\n",
       "</table>\n",
       "</div>"
      ],
      "text/plain": [
       "          HomeAge     HomeSqft      LotSize   BedRooms  HighSchoolAPI  \\\n",
       "count  100.000000   100.000000   100.000000  100.00000     100.000000   \n",
       "mean    17.200000  1615.280000  7840.500000    2.71000     904.610000   \n",
       "std      4.925711   231.759719  1046.107306    0.71485      36.166253   \n",
       "min     10.000000  1215.000000  6056.000000    2.00000     851.000000   \n",
       "25%     12.750000  1411.500000  7024.250000    2.00000     875.750000   \n",
       "50%     17.000000  1606.500000  7822.000000    3.00000     901.500000   \n",
       "75%     21.250000  1836.000000  8839.250000    3.00000     936.000000   \n",
       "max     25.000000  1994.000000  9476.000000    4.00000     975.000000   \n",
       "\n",
       "          ProxFwy   CarGarage   HomePriceK  \n",
       "count  100.000000  100.000000   100.000000  \n",
       "mean     3.100000    1.520000  1080.990000  \n",
       "std      0.758787    1.234848   146.533583  \n",
       "min      2.000000    0.000000   809.000000  \n",
       "25%      3.000000    0.000000   940.000000  \n",
       "50%      3.000000    2.000000  1100.000000  \n",
       "75%      4.000000    3.000000  1191.000000  \n",
       "max      4.000000    3.000000  1336.000000  "
      ]
     },
     "execution_count": 71,
     "metadata": {},
     "output_type": "execute_result"
    }
   ],
   "source": [
    "df.describe()"
   ]
  },
  {
   "cell_type": "code",
   "execution_count": 76,
   "metadata": {},
   "outputs": [
    {
     "data": {
      "text/html": [
       "<div>\n",
       "<style scoped>\n",
       "    .dataframe tbody tr th:only-of-type {\n",
       "        vertical-align: middle;\n",
       "    }\n",
       "\n",
       "    .dataframe tbody tr th {\n",
       "        vertical-align: top;\n",
       "    }\n",
       "\n",
       "    .dataframe thead th {\n",
       "        text-align: right;\n",
       "    }\n",
       "</style>\n",
       "<table border=\"1\" class=\"dataframe\">\n",
       "  <thead>\n",
       "    <tr style=\"text-align: right;\">\n",
       "      <th></th>\n",
       "      <th>HomeAge</th>\n",
       "      <th>HomeSqft</th>\n",
       "      <th>LotSize</th>\n",
       "      <th>BedRooms</th>\n",
       "      <th>HighSchoolAPI</th>\n",
       "      <th>ProxFwy</th>\n",
       "      <th>CarGarage</th>\n",
       "    </tr>\n",
       "  </thead>\n",
       "  <tbody>\n",
       "    <tr>\n",
       "      <th>0</th>\n",
       "      <td>14</td>\n",
       "      <td>1617</td>\n",
       "      <td>8394</td>\n",
       "      <td>2</td>\n",
       "      <td>851</td>\n",
       "      <td>2</td>\n",
       "      <td>0</td>\n",
       "    </tr>\n",
       "    <tr>\n",
       "      <th>1</th>\n",
       "      <td>13</td>\n",
       "      <td>1358</td>\n",
       "      <td>6819</td>\n",
       "      <td>2</td>\n",
       "      <td>851</td>\n",
       "      <td>3</td>\n",
       "      <td>2</td>\n",
       "    </tr>\n",
       "  </tbody>\n",
       "</table>\n",
       "</div>"
      ],
      "text/plain": [
       "   HomeAge  HomeSqft  LotSize  BedRooms  HighSchoolAPI  ProxFwy  CarGarage\n",
       "0       14      1617     8394         2            851        2          0\n",
       "1       13      1358     6819         2            851        3          2"
      ]
     },
     "execution_count": 76,
     "metadata": {},
     "output_type": "execute_result"
    }
   ],
   "source": [
    "X = df.drop('HomePriceK',axis=1)\n",
    "X.head(2)"
   ]
  },
  {
   "cell_type": "code",
   "execution_count": 77,
   "metadata": {},
   "outputs": [
    {
     "name": "stdout",
     "output_type": "stream",
     "text": [
      "60.645262694758\n",
      "[ 0.70906208  0.01544843  0.13235772  2.79002749 -0.03065946 -9.62684217\n",
      " -2.98573246]\n",
      "Number of coefficients is  7\n"
     ]
    }
   ],
   "source": [
    "from sklearn.linear_model import LinearRegression\n",
    "lm = LinearRegression()\n",
    "lm.fit(X,df.HomePriceK)\n",
    "print(lm.intercept_)\n",
    "print(lm.coef_)\n",
    "print (\"Number of coefficients is \",len(lm.coef_))"
   ]
  },
  {
   "cell_type": "code",
   "execution_count": 79,
   "metadata": {},
   "outputs": [
    {
     "name": "stdout",
     "output_type": "stream",
     "text": [
      "   HomeAge  HomeSqft  LotSize  BedRooms  HighSchoolAPI  ProxFwy  CarGarage\n",
      "0       14      1617     8394         2            851        2          0\n",
      "1       13      1358     6819         2            851        3          2\n",
      "2       22      1724     7339         3            975        3          3\n",
      "3       12      1943     7249         2            974        2          0\n",
      "4       13      1836     7027         2            966        3          3\n"
     ]
    }
   ],
   "source": [
    "print(X[0:5])"
   ]
  },
  {
   "cell_type": "code",
   "execution_count": 81,
   "metadata": {},
   "outputs": [
    {
     "data": {
      "text/plain": [
       "array([1166.79814669,  938.02621945, 1014.89044119, 1015.09550212,\n",
       "        966.42940391])"
      ]
     },
     "execution_count": 81,
     "metadata": {},
     "output_type": "execute_result"
    }
   ],
   "source": [
    "lm.predict(X[0:5])"
   ]
  },
  {
   "cell_type": "code",
   "execution_count": 82,
   "metadata": {},
   "outputs": [
    {
     "data": {
      "text/plain": [
       "Text(0, 0.5, 'Predicted Prices')"
      ]
     },
     "execution_count": 82,
     "metadata": {},
     "output_type": "execute_result"
    },
    {
     "data": {
      "image/png": "[encoded data removed]",
      "text/plain": [
       "<Figure size 432x288 with 1 Axes>"
      ]
     },
     "metadata": {
      "needs_background": "light"
     },
     "output_type": "display_data"
    }
   ],
   "source": [
    "# display a Scatter plot to show how predict values align with known values\n",
    "\n",
    "plt.scatter(df.HomePriceK,lm.predict(X))\n",
    "plt.xlabel(\"Actual Prices\")\n",
    "plt.ylabel(\"Predicted Prices\")"
   ]
  },
  {
   "cell_type": "code",
   "execution_count": 83,
   "metadata": {},
   "outputs": [
    {
     "name": "stdout",
     "output_type": "stream",
     "text": [
      "38.433279767842976\n"
     ]
    }
   ],
   "source": [
    "import math\n",
    "mseFull = math.sqrt(np.mean((df.HomePriceK - lm.predict(X)) ** 2))\n",
    "print(mseFull)"
   ]
  },
  {
   "cell_type": "code",
   "execution_count": 84,
   "metadata": {},
   "outputs": [
    {
     "data": {
      "text/html": [
       "<div>\n",
       "<style scoped>\n",
       "    .dataframe tbody tr th:only-of-type {\n",
       "        vertical-align: middle;\n",
       "    }\n",
       "\n",
       "    .dataframe tbody tr th {\n",
       "        vertical-align: top;\n",
       "    }\n",
       "\n",
       "    .dataframe thead th {\n",
       "        text-align: right;\n",
       "    }\n",
       "</style>\n",
       "<table border=\"1\" class=\"dataframe\">\n",
       "  <thead>\n",
       "    <tr style=\"text-align: right;\">\n",
       "      <th></th>\n",
       "      <th>HomeAge</th>\n",
       "      <th>HomeSqft</th>\n",
       "      <th>LotSize</th>\n",
       "      <th>BedRooms</th>\n",
       "      <th>HighSchoolAPI</th>\n",
       "      <th>ProxFwy</th>\n",
       "      <th>CarGarage</th>\n",
       "    </tr>\n",
       "  </thead>\n",
       "  <tbody>\n",
       "    <tr>\n",
       "      <th>0</th>\n",
       "      <td>14</td>\n",
       "      <td>1617</td>\n",
       "      <td>8394</td>\n",
       "      <td>2</td>\n",
       "      <td>851</td>\n",
       "      <td>2</td>\n",
       "      <td>0</td>\n",
       "    </tr>\n",
       "    <tr>\n",
       "      <th>1</th>\n",
       "      <td>13</td>\n",
       "      <td>1358</td>\n",
       "      <td>6819</td>\n",
       "      <td>2</td>\n",
       "      <td>851</td>\n",
       "      <td>3</td>\n",
       "      <td>2</td>\n",
       "    </tr>\n",
       "  </tbody>\n",
       "</table>\n",
       "</div>"
      ],
      "text/plain": [
       "   HomeAge  HomeSqft  LotSize  BedRooms  HighSchoolAPI  ProxFwy  CarGarage\n",
       "0       14      1617     8394         2            851        2          0\n",
       "1       13      1358     6819         2            851        3          2"
      ]
     },
     "execution_count": 84,
     "metadata": {},
     "output_type": "execute_result"
    }
   ],
   "source": [
    "X[0:2] ## first two data rows"
   ]
  },
  {
   "cell_type": "code",
   "execution_count": 85,
   "metadata": {},
   "outputs": [
    {
     "name": "stdout",
     "output_type": "stream",
     "text": [
      "0    1138\n",
      "1     859\n",
      "Name: HomePriceK, dtype: int64\n"
     ]
    }
   ],
   "source": [
    "print(df.HomePriceK[0:2])"
   ]
  },
  {
   "cell_type": "code",
   "execution_count": 86,
   "metadata": {},
   "outputs": [
    {
     "data": {
      "text/plain": [
       "array([1166.79814669,  938.02621945])"
      ]
     },
     "execution_count": 86,
     "metadata": {},
     "output_type": "execute_result"
    }
   ],
   "source": [
    "row_1 = [14,1617,8394,2,851,2,0]\n",
    "row_2 = [13,1358,6819,2,851,3,2]\n",
    "tests = [row_1,row_2]\n",
    "lm.predict(tests)"
   ]
  },
  {
   "cell_type": "code",
   "execution_count": 87,
   "metadata": {},
   "outputs": [
    {
     "data": {
      "text/plain": [
       "[<matplotlib.lines.Line2D at 0x12ad7a090>]"
      ]
     },
     "execution_count": 87,
     "metadata": {},
     "output_type": "execute_result"
    },
    {
     "data": {
      "image/png": "[encoded data removed]",
      "text/plain": [
       "<Figure size 432x288 with 1 Axes>"
      ]
     },
     "metadata": {
      "needs_background": "light"
     },
     "output_type": "display_data"
    }
   ],
   "source": [
    "plt.plot(df.HomePriceK)"
   ]
  },
  {
   "cell_type": "code",
   "execution_count": 88,
   "metadata": {},
   "outputs": [
    {
     "data": {
      "text/plain": [
       "<matplotlib.collections.PathCollection at 0x12ad85c90>"
      ]
     },
     "execution_count": 88,
     "metadata": {},
     "output_type": "execute_result"
    },
    {
     "data": {
      "image/png": "[encoded data removed]",
      "text/plain": [
       "<Figure size 432x288 with 1 Axes>"
      ]
     },
     "metadata": {
      "needs_background": "light"
     },
     "output_type": "display_data"
    }
   ],
   "source": [
    "plt.title(\"LotSize and Price\") \n",
    "plt.xlabel(\"LotSize\") \n",
    "plt.ylabel(\"HomePriceK\") \n",
    "plt.scatter(df['LotSize'],df['HomePriceK'])"
   ]
  },
  {
   "cell_type": "code",
   "execution_count": 90,
   "metadata": {},
   "outputs": [
    {
     "data": {
      "text/plain": [
       "<matplotlib.collections.PathCollection at 0x1204be110>"
      ]
     },
     "execution_count": 90,
     "metadata": {},
     "output_type": "execute_result"
    },
    {
     "data": {
      "image/png": "[encoded data removed]",
      "text/plain": [
       "<Figure size 432x288 with 1 Axes>"
      ]
     },
     "metadata": {
      "needs_background": "light"
     },
     "output_type": "display_data"
    }
   ],
   "source": [
    "plt.title(\"BedRooms and Price\") \n",
    "plt.xlabel(\"BedRooms\") \n",
    "plt.ylabel(\"HomePriceK\") \n",
    "plt.scatter(df['BedRooms'],df['HomePriceK'])"
   ]
  },
  {
   "cell_type": "code",
   "execution_count": 91,
   "metadata": {},
   "outputs": [
    {
     "data": {
      "text/html": [
       "<div>\n",
       "<style scoped>\n",
       "    .dataframe tbody tr th:only-of-type {\n",
       "        vertical-align: middle;\n",
       "    }\n",
       "\n",
       "    .dataframe tbody tr th {\n",
       "        vertical-align: top;\n",
       "    }\n",
       "\n",
       "    .dataframe thead th {\n",
       "        text-align: right;\n",
       "    }\n",
       "</style>\n",
       "<table border=\"1\" class=\"dataframe\">\n",
       "  <thead>\n",
       "    <tr style=\"text-align: right;\">\n",
       "      <th></th>\n",
       "      <th>HomeAge</th>\n",
       "      <th>HomeSqft</th>\n",
       "      <th>LotSize</th>\n",
       "      <th>BedRooms</th>\n",
       "      <th>HighSchoolAPI</th>\n",
       "      <th>ProxFwy</th>\n",
       "      <th>CarGarage</th>\n",
       "      <th>HomePriceK</th>\n",
       "    </tr>\n",
       "  </thead>\n",
       "  <tbody>\n",
       "    <tr>\n",
       "      <th>HomeAge</th>\n",
       "      <td>1.000000</td>\n",
       "      <td>0.005498</td>\n",
       "      <td>0.133927</td>\n",
       "      <td>0.005164</td>\n",
       "      <td>-0.004151</td>\n",
       "      <td>-0.035133</td>\n",
       "      <td>-0.100304</td>\n",
       "      <td>0.154894</td>\n",
       "    </tr>\n",
       "    <tr>\n",
       "      <th>HomeSqft</th>\n",
       "      <td>0.005498</td>\n",
       "      <td>1.000000</td>\n",
       "      <td>-0.084197</td>\n",
       "      <td>0.032016</td>\n",
       "      <td>0.046302</td>\n",
       "      <td>-0.035486</td>\n",
       "      <td>-0.046856</td>\n",
       "      <td>-0.051960</td>\n",
       "    </tr>\n",
       "    <tr>\n",
       "      <th>LotSize</th>\n",
       "      <td>0.133927</td>\n",
       "      <td>-0.084197</td>\n",
       "      <td>1.000000</td>\n",
       "      <td>0.529351</td>\n",
       "      <td>-0.141361</td>\n",
       "      <td>-0.146570</td>\n",
       "      <td>-0.023795</td>\n",
       "      <td>0.962220</td>\n",
       "    </tr>\n",
       "    <tr>\n",
       "      <th>BedRooms</th>\n",
       "      <td>0.005164</td>\n",
       "      <td>0.032016</td>\n",
       "      <td>0.529351</td>\n",
       "      <td>1.000000</td>\n",
       "      <td>0.098336</td>\n",
       "      <td>0.054004</td>\n",
       "      <td>0.012358</td>\n",
       "      <td>0.510955</td>\n",
       "    </tr>\n",
       "    <tr>\n",
       "      <th>HighSchoolAPI</th>\n",
       "      <td>-0.004151</td>\n",
       "      <td>0.046302</td>\n",
       "      <td>-0.141361</td>\n",
       "      <td>0.098336</td>\n",
       "      <td>1.000000</td>\n",
       "      <td>-0.087640</td>\n",
       "      <td>0.104783</td>\n",
       "      <td>-0.137037</td>\n",
       "    </tr>\n",
       "    <tr>\n",
       "      <th>ProxFwy</th>\n",
       "      <td>-0.035133</td>\n",
       "      <td>-0.035486</td>\n",
       "      <td>-0.146570</td>\n",
       "      <td>0.054004</td>\n",
       "      <td>-0.087640</td>\n",
       "      <td>1.000000</td>\n",
       "      <td>0.073306</td>\n",
       "      <td>-0.190496</td>\n",
       "    </tr>\n",
       "    <tr>\n",
       "      <th>CarGarage</th>\n",
       "      <td>-0.100304</td>\n",
       "      <td>-0.046856</td>\n",
       "      <td>-0.023795</td>\n",
       "      <td>0.012358</td>\n",
       "      <td>0.104783</td>\n",
       "      <td>0.073306</td>\n",
       "      <td>1.000000</td>\n",
       "      <td>-0.055459</td>\n",
       "    </tr>\n",
       "    <tr>\n",
       "      <th>HomePriceK</th>\n",
       "      <td>0.154894</td>\n",
       "      <td>-0.051960</td>\n",
       "      <td>0.962220</td>\n",
       "      <td>0.510955</td>\n",
       "      <td>-0.137037</td>\n",
       "      <td>-0.190496</td>\n",
       "      <td>-0.055459</td>\n",
       "      <td>1.000000</td>\n",
       "    </tr>\n",
       "  </tbody>\n",
       "</table>\n",
       "</div>"
      ],
      "text/plain": [
       "                HomeAge  HomeSqft   LotSize  BedRooms  HighSchoolAPI  \\\n",
       "HomeAge        1.000000  0.005498  0.133927  0.005164      -0.004151   \n",
       "HomeSqft       0.005498  1.000000 -0.084197  0.032016       0.046302   \n",
       "LotSize        0.133927 -0.084197  1.000000  0.529351      -0.141361   \n",
       "BedRooms       0.005164  0.032016  0.529351  1.000000       0.098336   \n",
       "HighSchoolAPI -0.004151  0.046302 -0.141361  0.098336       1.000000   \n",
       "ProxFwy       -0.035133 -0.035486 -0.146570  0.054004      -0.087640   \n",
       "CarGarage     -0.100304 -0.046856 -0.023795  0.012358       0.104783   \n",
       "HomePriceK     0.154894 -0.051960  0.962220  0.510955      -0.137037   \n",
       "\n",
       "                ProxFwy  CarGarage  HomePriceK  \n",
       "HomeAge       -0.035133  -0.100304    0.154894  \n",
       "HomeSqft      -0.035486  -0.046856   -0.051960  \n",
       "LotSize       -0.146570  -0.023795    0.962220  \n",
       "BedRooms       0.054004   0.012358    0.510955  \n",
       "HighSchoolAPI -0.087640   0.104783   -0.137037  \n",
       "ProxFwy        1.000000   0.073306   -0.190496  \n",
       "CarGarage      0.073306   1.000000   -0.055459  \n",
       "HomePriceK    -0.190496  -0.055459    1.000000  "
      ]
     },
     "execution_count": 91,
     "metadata": {},
     "output_type": "execute_result"
    }
   ],
   "source": [
    "df.corr()"
   ]
  },
  {
   "cell_type": "markdown",
   "metadata": {},
   "source": [
    "# Homework: Linear regression with multiple y features.\n",
    "## Example: Predict HomeSqft & LotSize knowing other features"
   ]
  },
  {
   "cell_type": "code",
   "execution_count": 92,
   "metadata": {},
   "outputs": [
    {
     "name": "stdout",
     "output_type": "stream",
     "text": [
      "<class 'pandas.core.frame.DataFrame'>\n",
      "RangeIndex: 100 entries, 0 to 99\n",
      "Data columns (total 8 columns):\n",
      "HomeAge          100 non-null int64\n",
      "HomeSqft         100 non-null int64\n",
      "LotSize          100 non-null int64\n",
      "BedRooms         100 non-null int64\n",
      "HighSchoolAPI    100 non-null int64\n",
      "ProxFwy          100 non-null int64\n",
      "CarGarage        100 non-null int64\n",
      "HomePriceK       100 non-null int64\n",
      "dtypes: int64(8)\n",
      "memory usage: 6.4 KB\n"
     ]
    }
   ],
   "source": [
    "df.info()"
   ]
  },
  {
   "cell_type": "code",
   "execution_count": 100,
   "metadata": {},
   "outputs": [
    {
     "data": {
      "text/html": [
       "<div>\n",
       "<style scoped>\n",
       "    .dataframe tbody tr th:only-of-type {\n",
       "        vertical-align: middle;\n",
       "    }\n",
       "\n",
       "    .dataframe tbody tr th {\n",
       "        vertical-align: top;\n",
       "    }\n",
       "\n",
       "    .dataframe thead th {\n",
       "        text-align: right;\n",
       "    }\n",
       "</style>\n",
       "<table border=\"1\" class=\"dataframe\">\n",
       "  <thead>\n",
       "    <tr style=\"text-align: right;\">\n",
       "      <th></th>\n",
       "      <th>HomeAge</th>\n",
       "      <th>HomeSqft</th>\n",
       "      <th>LotSize</th>\n",
       "      <th>BedRooms</th>\n",
       "      <th>HighSchoolAPI</th>\n",
       "      <th>ProxFwy</th>\n",
       "      <th>CarGarage</th>\n",
       "      <th>HomePriceK</th>\n",
       "    </tr>\n",
       "  </thead>\n",
       "  <tbody>\n",
       "    <tr>\n",
       "      <th>0</th>\n",
       "      <td>14</td>\n",
       "      <td>1617</td>\n",
       "      <td>8394</td>\n",
       "      <td>2</td>\n",
       "      <td>851</td>\n",
       "      <td>2</td>\n",
       "      <td>0</td>\n",
       "      <td>1138</td>\n",
       "    </tr>\n",
       "    <tr>\n",
       "      <th>1</th>\n",
       "      <td>13</td>\n",
       "      <td>1358</td>\n",
       "      <td>6819</td>\n",
       "      <td>2</td>\n",
       "      <td>851</td>\n",
       "      <td>3</td>\n",
       "      <td>2</td>\n",
       "      <td>859</td>\n",
       "    </tr>\n",
       "  </tbody>\n",
       "</table>\n",
       "</div>"
      ],
      "text/plain": [
       "   HomeAge  HomeSqft  LotSize  BedRooms  HighSchoolAPI  ProxFwy  CarGarage  \\\n",
       "0       14      1617     8394         2            851        2          0   \n",
       "1       13      1358     6819         2            851        3          2   \n",
       "\n",
       "   HomePriceK  \n",
       "0        1138  \n",
       "1         859  "
      ]
     },
     "execution_count": 100,
     "metadata": {},
     "output_type": "execute_result"
    }
   ],
   "source": [
    "df.head(2)"
   ]
  },
  {
   "cell_type": "code",
   "execution_count": 94,
   "metadata": {},
   "outputs": [
    {
     "data": {
      "text/html": [
       "<div>\n",
       "<style scoped>\n",
       "    .dataframe tbody tr th:only-of-type {\n",
       "        vertical-align: middle;\n",
       "    }\n",
       "\n",
       "    .dataframe tbody tr th {\n",
       "        vertical-align: top;\n",
       "    }\n",
       "\n",
       "    .dataframe thead th {\n",
       "        text-align: right;\n",
       "    }\n",
       "</style>\n",
       "<table border=\"1\" class=\"dataframe\">\n",
       "  <thead>\n",
       "    <tr style=\"text-align: right;\">\n",
       "      <th></th>\n",
       "      <th>HomeAge</th>\n",
       "      <th>BedRooms</th>\n",
       "      <th>HighSchoolAPI</th>\n",
       "      <th>ProxFwy</th>\n",
       "      <th>CarGarage</th>\n",
       "      <th>HomePriceK</th>\n",
       "    </tr>\n",
       "  </thead>\n",
       "  <tbody>\n",
       "    <tr>\n",
       "      <th>0</th>\n",
       "      <td>14</td>\n",
       "      <td>2</td>\n",
       "      <td>851</td>\n",
       "      <td>2</td>\n",
       "      <td>0</td>\n",
       "      <td>1138</td>\n",
       "    </tr>\n",
       "    <tr>\n",
       "      <th>1</th>\n",
       "      <td>13</td>\n",
       "      <td>2</td>\n",
       "      <td>851</td>\n",
       "      <td>3</td>\n",
       "      <td>2</td>\n",
       "      <td>859</td>\n",
       "    </tr>\n",
       "  </tbody>\n",
       "</table>\n",
       "</div>"
      ],
      "text/plain": [
       "   HomeAge  BedRooms  HighSchoolAPI  ProxFwy  CarGarage  HomePriceK\n",
       "0       14         2            851        2          0        1138\n",
       "1       13         2            851        3          2         859"
      ]
     },
     "execution_count": 94,
     "metadata": {},
     "output_type": "execute_result"
    }
   ],
   "source": [
    "X1 = df.drop(\"HomeSqft\", axis=1)\n",
    "X1 = X1.drop(\"LotSize\", axis=1)\n",
    "X1.head(2)"
   ]
  },
  {
   "cell_type": "code",
   "execution_count": 99,
   "metadata": {},
   "outputs": [
    {
     "data": {
      "text/html": [
       "<div>\n",
       "<style scoped>\n",
       "    .dataframe tbody tr th:only-of-type {\n",
       "        vertical-align: middle;\n",
       "    }\n",
       "\n",
       "    .dataframe tbody tr th {\n",
       "        vertical-align: top;\n",
       "    }\n",
       "\n",
       "    .dataframe thead th {\n",
       "        text-align: right;\n",
       "    }\n",
       "</style>\n",
       "<table border=\"1\" class=\"dataframe\">\n",
       "  <thead>\n",
       "    <tr style=\"text-align: right;\">\n",
       "      <th></th>\n",
       "      <th>HomeSqft</th>\n",
       "      <th>LotSize</th>\n",
       "    </tr>\n",
       "  </thead>\n",
       "  <tbody>\n",
       "    <tr>\n",
       "      <th>0</th>\n",
       "      <td>1617</td>\n",
       "      <td>8394</td>\n",
       "    </tr>\n",
       "    <tr>\n",
       "      <th>1</th>\n",
       "      <td>1358</td>\n",
       "      <td>6819</td>\n",
       "    </tr>\n",
       "  </tbody>\n",
       "</table>\n",
       "</div>"
      ],
      "text/plain": [
       "   HomeSqft  LotSize\n",
       "0      1617     8394\n",
       "1      1358     6819"
      ]
     },
     "execution_count": 99,
     "metadata": {},
     "output_type": "execute_result"
    }
   ],
   "source": [
    "Y1 = df[[\"HomeSqft\",\"LotSize\"]]\n",
    "Y1.head(2)"
   ]
  },
  {
   "cell_type": "code",
   "execution_count": 102,
   "metadata": {},
   "outputs": [
    {
     "name": "stdout",
     "output_type": "stream",
     "text": [
      "[1646.39970756  701.8310206 ]\n",
      "[[  0.71371052  29.05801107   0.14707757 -16.81565435  -9.55814376\n",
      "   -0.17440834]\n",
      " [ -1.8984967   68.8378171   -0.49590973  37.08299977  22.78553485\n",
      "    6.73806994]]\n",
      "Number of coefficients is  2\n"
     ]
    }
   ],
   "source": [
    "lm.fit(X1,Y1)\n",
    "print(lm.intercept_)\n",
    "print(lm.coef_)\n",
    "print (\"Number of coefficients is \",len(lm.coef_))"
   ]
  },
  {
   "cell_type": "code",
   "execution_count": 103,
   "metadata": {},
   "outputs": [
    {
     "data": {
      "text/html": [
       "<div>\n",
       "<style scoped>\n",
       "    .dataframe tbody tr th:only-of-type {\n",
       "        vertical-align: middle;\n",
       "    }\n",
       "\n",
       "    .dataframe tbody tr th {\n",
       "        vertical-align: top;\n",
       "    }\n",
       "\n",
       "    .dataframe thead th {\n",
       "        text-align: right;\n",
       "    }\n",
       "</style>\n",
       "<table border=\"1\" class=\"dataframe\">\n",
       "  <thead>\n",
       "    <tr style=\"text-align: right;\">\n",
       "      <th></th>\n",
       "      <th>HomeAge</th>\n",
       "      <th>BedRooms</th>\n",
       "      <th>HighSchoolAPI</th>\n",
       "      <th>ProxFwy</th>\n",
       "      <th>CarGarage</th>\n",
       "      <th>HomePriceK</th>\n",
       "    </tr>\n",
       "  </thead>\n",
       "  <tbody>\n",
       "    <tr>\n",
       "      <th>0</th>\n",
       "      <td>14</td>\n",
       "      <td>2</td>\n",
       "      <td>851</td>\n",
       "      <td>2</td>\n",
       "      <td>0</td>\n",
       "      <td>1138</td>\n",
       "    </tr>\n",
       "    <tr>\n",
       "      <th>1</th>\n",
       "      <td>13</td>\n",
       "      <td>2</td>\n",
       "      <td>851</td>\n",
       "      <td>3</td>\n",
       "      <td>2</td>\n",
       "      <td>859</td>\n",
       "    </tr>\n",
       "  </tbody>\n",
       "</table>\n",
       "</div>"
      ],
      "text/plain": [
       "   HomeAge  BedRooms  HighSchoolAPI  ProxFwy  CarGarage  HomePriceK\n",
       "0       14         2            851        2          0        1138\n",
       "1       13         2            851        3          2         859"
      ]
     },
     "execution_count": 103,
     "metadata": {},
     "output_type": "execute_result"
    }
   ],
   "source": [
    "test1 = X1[0:2]\n",
    "test1.head()"
   ]
  },
  {
   "cell_type": "code",
   "execution_count": 105,
   "metadata": {},
   "outputs": [
    {
     "name": "stdout",
     "output_type": "stream",
     "text": [
      "   HomeSqft  LotSize\n",
      "0      1617     8394\n",
      "1      1358     6819\n"
     ]
    }
   ],
   "source": [
    "print(Y1[0:2])"
   ]
  },
  {
   "cell_type": "code",
   "execution_count": 104,
   "metadata": {},
   "outputs": [
    {
     "data": {
      "text/plain": [
       "array([[1607.56268874, 8132.99811428],\n",
       "       [1619.57696343, 6337.62916731]])"
      ]
     },
     "execution_count": 104,
     "metadata": {},
     "output_type": "execute_result"
    }
   ],
   "source": [
    "lm.predict(test1)"
   ]
  },
  {
   "cell_type": "code",
   "execution_count": 128,
   "metadata": {},
   "outputs": [
    {
     "data": {
      "text/plain": [
       "Text(0, 0.5, 'Predicted [HomeSqft, LotSize]')"
      ]
     },
     "execution_count": 128,
     "metadata": {},
     "output_type": "execute_result"
    },
    {
     "data": {
      "image/png": "[encoded data removed]",
      "text/plain": [
       "<Figure size 432x288 with 1 Axes>"
      ]
     },
     "metadata": {
      "needs_background": "light"
     },
     "output_type": "display_data"
    }
   ],
   "source": [
    "plt.scatter(Y1,lm.predict(X1))\n",
    "plt.xlabel(\"Actual [HomeSqft, LotSize]\")\n",
    "plt.ylabel(\"Predicted [HomeSqft, LotSize]\")"
   ]
  },
  {
   "cell_type": "code",
   "execution_count": 121,
   "metadata": {},
   "outputs": [],
   "source": [
    "predict_1 = [ i[0] for i in lm.predict(X1)]\n",
    "predict_2 = [ i[1] for i in lm.predict(X1)]"
   ]
  },
  {
   "cell_type": "code",
   "execution_count": 124,
   "metadata": {},
   "outputs": [
    {
     "data": {
      "text/plain": [
       "Text(0, 0.5, 'Predicted HomeSqft')"
      ]
     },
     "execution_count": 124,
     "metadata": {},
     "output_type": "execute_result"
    },
    {
     "data": {
      "image/png": "[encoded data removed]",
      "text/plain": [
       "<Figure size 432x288 with 1 Axes>"
      ]
     },
     "metadata": {
      "needs_background": "light"
     },
     "output_type": "display_data"
    }
   ],
   "source": [
    "plt.scatter(Y1.HomeSqft,predict_1)\n",
    "plt.xlabel(\"Actual HomeSqft\")\n",
    "plt.ylabel(\"Predicted HomeSqft\")"
   ]
  },
  {
   "cell_type": "code",
   "execution_count": 125,
   "metadata": {},
   "outputs": [
    {
     "data": {
      "text/plain": [
       "Text(0, 0.5, 'Predicted LotSize')"
      ]
     },
     "execution_count": 125,
     "metadata": {},
     "output_type": "execute_result"
    },
    {
     "data": {
      "image/png": "[encoded data removed]",
      "text/plain": [
       "<Figure size 432x288 with 1 Axes>"
      ]
     },
     "metadata": {
      "needs_background": "light"
     },
     "output_type": "display_data"
    }
   ],
   "source": [
    "plt.scatter(Y1.LotSize,predict_2)\n",
    "plt.xlabel(\"Actual LotSize\")\n",
    "plt.ylabel(\"Predicted LotSize\")"
   ]
  }
 ],
 "metadata": {
  "anaconda-cloud": {},
  "kernelspec": {
   "display_name": "Python 3",
   "language": "python",
   "name": "python3"
  },
  "language_info": {
   "codemirror_mode": {
    "name": "ipython",
    "version": 3
   },
   "file_extension": ".py",
   "mimetype": "text/x-python",
   "name": "python",
   "nbconvert_exporter": "python",
   "pygments_lexer": "ipython3",
   "version": "3.7.6"
  },
  "toc": {
   "base_numbering": 1,
   "nav_menu": {},
   "number_sections": true,
   "sideBar": true,
   "skip_h1_title": false,
   "title_cell": "Table of Contents",
   "title_sidebar": "Contents",
   "toc_cell": false,
   "toc_position": {},
   "toc_section_display": true,
   "toc_window_display": false
  }
 },
 "nbformat": 4,
 "nbformat_minor": 2
}
