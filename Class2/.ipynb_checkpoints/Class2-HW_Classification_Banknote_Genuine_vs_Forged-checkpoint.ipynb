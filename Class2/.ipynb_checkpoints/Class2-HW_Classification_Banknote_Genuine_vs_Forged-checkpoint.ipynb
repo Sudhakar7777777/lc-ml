{
 "cells": [
  {
   "cell_type": "code",
   "execution_count": 1,
   "metadata": {},
   "outputs": [],
   "source": [
    "_ = \"\"\"\n",
    "Classification Problem:\n",
    "~~~~~~~~~~~~~~~~~~~~~~~\n",
    "1. Gathering Data\n",
    "2. Preparating the Data\n",
    "3. Choosing the Model\n",
    "4. Training\n",
    "5. Evaluation\n",
    "6. Hyper parameter tuning\n",
    "7. Prediction\n",
    "\"\"\""
   ]
  },
  {
   "cell_type": "markdown",
   "metadata": {},
   "source": [
    "### 1. Gathering Data\n",
    "\n",
    "**Use the pre-defined test dataset:**\n",
    "\n",
    "Banknote authentication Data Set:\n",
    "https://archive.ics.uci.edu/ml/datasets/banknote+authentication\n",
    "\n",
    "* Description:\n",
    "    * Data were extracted from images that were taken from genuine and forged banknote-like specimens. For digitization, an industrial camera usually used for print inspection was used. The final images have 400x 400 pixels. Due to the object lens and distance to the investigated object gray-scale pictures with a resolution of about 660 dpi were gained. Wavelet Transform tool were used to extract features from images.\n",
    "\n",
    "* Attributes:\n",
    "    1. variance of Wavelet Transformed image (continuous)\n",
    "    2. skewness of Wavelet Transformed image (continuous)\n",
    "    3. curtosis of Wavelet Transformed image (continuous)\n",
    "    4. entropy of image (continuous)\n",
    "    5. class (integer)"
   ]
  },
  {
   "cell_type": "markdown",
   "metadata": {},
   "source": [
    "### 2. Preparating the Data"
   ]
  },
  {
   "cell_type": "code",
   "execution_count": 2,
   "metadata": {},
   "outputs": [],
   "source": [
    "import numpy as np\n",
    "import pandas as pd\n",
    "import seaborn as sns\n",
    "import matplotlib.pyplot as plt\n",
    "%matplotlib inline"
   ]
  },
  {
   "cell_type": "code",
   "execution_count": 53,
   "metadata": {},
   "outputs": [],
   "source": [
    "data_file = \"data_banknote_authentication.txt\"\n",
    "columns = [\"Variance\", \"Skewness\", \"Curtosis\", \"Entropy\", \"Decision\"]"
   ]
  },
  {
   "cell_type": "code",
   "execution_count": null,
   "metadata": {},
   "outputs": [],
   "source": [
    "df = pd.read_csv(data_file, sep=\",\", names=columns, encoding=\"utf-8\")"
   ]
  },
  {
   "cell_type": "code",
   "execution_count": 26,
   "metadata": {},
   "outputs": [
    {
     "name": "stdout",
     "output_type": "stream",
     "text": [
      "<class 'pandas.core.frame.DataFrame'>\n",
      "RangeIndex: 1372 entries, 0 to 1371\n",
      "Data columns (total 5 columns):\n",
      "Variance    1372 non-null float64\n",
      "Skewness    1372 non-null float64\n",
      "Curtosis    1372 non-null float64\n",
      "Entropy     1372 non-null float64\n",
      "Decision    1372 non-null int64\n",
      "dtypes: float64(4), int64(1)\n",
      "memory usage: 53.7 KB\n"
     ]
    }
   ],
   "source": [
    "df.info()"
   ]
  },
  {
   "cell_type": "code",
   "execution_count": 6,
   "metadata": {},
   "outputs": [
    {
     "data": {
      "text/html": [
       "<div>\n",
       "<style scoped>\n",
       "    .dataframe tbody tr th:only-of-type {\n",
       "        vertical-align: middle;\n",
       "    }\n",
       "\n",
       "    .dataframe tbody tr th {\n",
       "        vertical-align: top;\n",
       "    }\n",
       "\n",
       "    .dataframe thead th {\n",
       "        text-align: right;\n",
       "    }\n",
       "</style>\n",
       "<table border=\"1\" class=\"dataframe\">\n",
       "  <thead>\n",
       "    <tr style=\"text-align: right;\">\n",
       "      <th></th>\n",
       "      <th>Variance</th>\n",
       "      <th>Skewness</th>\n",
       "      <th>Curtosis</th>\n",
       "      <th>Entropy</th>\n",
       "      <th>Decision</th>\n",
       "    </tr>\n",
       "  </thead>\n",
       "  <tbody>\n",
       "    <tr>\n",
       "      <th>0</th>\n",
       "      <td>3.62160</td>\n",
       "      <td>8.6661</td>\n",
       "      <td>-2.8073</td>\n",
       "      <td>-0.44699</td>\n",
       "      <td>0</td>\n",
       "    </tr>\n",
       "    <tr>\n",
       "      <th>1</th>\n",
       "      <td>4.54590</td>\n",
       "      <td>8.1674</td>\n",
       "      <td>-2.4586</td>\n",
       "      <td>-1.46210</td>\n",
       "      <td>0</td>\n",
       "    </tr>\n",
       "    <tr>\n",
       "      <th>2</th>\n",
       "      <td>3.86600</td>\n",
       "      <td>-2.6383</td>\n",
       "      <td>1.9242</td>\n",
       "      <td>0.10645</td>\n",
       "      <td>0</td>\n",
       "    </tr>\n",
       "    <tr>\n",
       "      <th>3</th>\n",
       "      <td>3.45660</td>\n",
       "      <td>9.5228</td>\n",
       "      <td>-4.0112</td>\n",
       "      <td>-3.59440</td>\n",
       "      <td>0</td>\n",
       "    </tr>\n",
       "    <tr>\n",
       "      <th>4</th>\n",
       "      <td>0.32924</td>\n",
       "      <td>-4.4552</td>\n",
       "      <td>4.5718</td>\n",
       "      <td>-0.98880</td>\n",
       "      <td>0</td>\n",
       "    </tr>\n",
       "  </tbody>\n",
       "</table>\n",
       "</div>"
      ],
      "text/plain": [
       "   Variance  Skewness  Curtosis  Entropy  Decision\n",
       "0   3.62160    8.6661   -2.8073 -0.44699         0\n",
       "1   4.54590    8.1674   -2.4586 -1.46210         0\n",
       "2   3.86600   -2.6383    1.9242  0.10645         0\n",
       "3   3.45660    9.5228   -4.0112 -3.59440         0\n",
       "4   0.32924   -4.4552    4.5718 -0.98880         0"
      ]
     },
     "execution_count": 6,
     "metadata": {},
     "output_type": "execute_result"
    }
   ],
   "source": [
    "df.head()"
   ]
  },
  {
   "cell_type": "code",
   "execution_count": 19,
   "metadata": {},
   "outputs": [
    {
     "data": {
      "text/plain": [
       "0    762\n",
       "1    610\n",
       "Name: Decision, dtype: int64"
      ]
     },
     "execution_count": 19,
     "metadata": {},
     "output_type": "execute_result"
    }
   ],
   "source": [
    "df.Decision.value_counts()"
   ]
  },
  {
   "cell_type": "markdown",
   "metadata": {},
   "source": [
    "Decision Records:\n",
    "* 0 - Genuine --> 762 samples\n",
    "* 1 - Forged  --> 610 samples\n"
   ]
  },
  {
   "cell_type": "code",
   "execution_count": 25,
   "metadata": {},
   "outputs": [
    {
     "data": {
      "text/html": [
       "<div>\n",
       "<style scoped>\n",
       "    .dataframe tbody tr th:only-of-type {\n",
       "        vertical-align: middle;\n",
       "    }\n",
       "\n",
       "    .dataframe tbody tr th {\n",
       "        vertical-align: top;\n",
       "    }\n",
       "\n",
       "    .dataframe thead th {\n",
       "        text-align: right;\n",
       "    }\n",
       "</style>\n",
       "<table border=\"1\" class=\"dataframe\">\n",
       "  <thead>\n",
       "    <tr style=\"text-align: right;\">\n",
       "      <th></th>\n",
       "      <th>Variance</th>\n",
       "      <th>Skewness</th>\n",
       "      <th>Curtosis</th>\n",
       "      <th>Entropy</th>\n",
       "      <th>Decision</th>\n",
       "    </tr>\n",
       "  </thead>\n",
       "  <tbody>\n",
       "    <tr>\n",
       "      <th>count</th>\n",
       "      <td>1372.000000</td>\n",
       "      <td>1372.000000</td>\n",
       "      <td>1372.000000</td>\n",
       "      <td>1372.000000</td>\n",
       "      <td>1372.000000</td>\n",
       "    </tr>\n",
       "    <tr>\n",
       "      <th>mean</th>\n",
       "      <td>0.433735</td>\n",
       "      <td>1.922353</td>\n",
       "      <td>1.397627</td>\n",
       "      <td>-1.191657</td>\n",
       "      <td>0.444606</td>\n",
       "    </tr>\n",
       "    <tr>\n",
       "      <th>std</th>\n",
       "      <td>2.842763</td>\n",
       "      <td>5.869047</td>\n",
       "      <td>4.310030</td>\n",
       "      <td>2.101013</td>\n",
       "      <td>0.497103</td>\n",
       "    </tr>\n",
       "    <tr>\n",
       "      <th>min</th>\n",
       "      <td>-7.042100</td>\n",
       "      <td>-13.773100</td>\n",
       "      <td>-5.286100</td>\n",
       "      <td>-8.548200</td>\n",
       "      <td>0.000000</td>\n",
       "    </tr>\n",
       "    <tr>\n",
       "      <th>25%</th>\n",
       "      <td>-1.773000</td>\n",
       "      <td>-1.708200</td>\n",
       "      <td>-1.574975</td>\n",
       "      <td>-2.413450</td>\n",
       "      <td>0.000000</td>\n",
       "    </tr>\n",
       "    <tr>\n",
       "      <th>50%</th>\n",
       "      <td>0.496180</td>\n",
       "      <td>2.319650</td>\n",
       "      <td>0.616630</td>\n",
       "      <td>-0.586650</td>\n",
       "      <td>0.000000</td>\n",
       "    </tr>\n",
       "    <tr>\n",
       "      <th>75%</th>\n",
       "      <td>2.821475</td>\n",
       "      <td>6.814625</td>\n",
       "      <td>3.179250</td>\n",
       "      <td>0.394810</td>\n",
       "      <td>1.000000</td>\n",
       "    </tr>\n",
       "    <tr>\n",
       "      <th>max</th>\n",
       "      <td>6.824800</td>\n",
       "      <td>12.951600</td>\n",
       "      <td>17.927400</td>\n",
       "      <td>2.449500</td>\n",
       "      <td>1.000000</td>\n",
       "    </tr>\n",
       "  </tbody>\n",
       "</table>\n",
       "</div>"
      ],
      "text/plain": [
       "          Variance     Skewness     Curtosis      Entropy     Decision\n",
       "count  1372.000000  1372.000000  1372.000000  1372.000000  1372.000000\n",
       "mean      0.433735     1.922353     1.397627    -1.191657     0.444606\n",
       "std       2.842763     5.869047     4.310030     2.101013     0.497103\n",
       "min      -7.042100   -13.773100    -5.286100    -8.548200     0.000000\n",
       "25%      -1.773000    -1.708200    -1.574975    -2.413450     0.000000\n",
       "50%       0.496180     2.319650     0.616630    -0.586650     0.000000\n",
       "75%       2.821475     6.814625     3.179250     0.394810     1.000000\n",
       "max       6.824800    12.951600    17.927400     2.449500     1.000000"
      ]
     },
     "execution_count": 25,
     "metadata": {},
     "output_type": "execute_result"
    }
   ],
   "source": [
    "df.describe()"
   ]
  },
  {
   "cell_type": "code",
   "execution_count": 27,
   "metadata": {},
   "outputs": [
    {
     "data": {
      "text/plain": [
       "<matplotlib.axes._subplots.AxesSubplot at 0x12b749a90>"
      ]
     },
     "execution_count": 27,
     "metadata": {},
     "output_type": "execute_result"
    },
    {
     "data": {
      "image/png": "[encoded data removed]",
      "text/plain": [
       "<Figure size 432x288 with 1 Axes>"
      ]
     },
     "metadata": {
      "needs_background": "light"
     },
     "output_type": "display_data"
    }
   ],
   "source": [
    "df.boxplot()"
   ]
  },
  {
   "cell_type": "code",
   "execution_count": 28,
   "metadata": {},
   "outputs": [
    {
     "name": "stderr",
     "output_type": "stream",
     "text": [
      "/Users/sbalak/miniconda/envs/gis/lib/python3.7/site-packages/ipykernel_launcher.py:3: UserWarning: To output multiple subplots, the figure containing the passed axes is being cleared\n",
      "  This is separate from the ipykernel package so we can avoid doing imports until\n"
     ]
    },
    {
     "data": {
      "text/plain": [
       "array([[<matplotlib.axes._subplots.AxesSubplot object at 0x12b2fae10>,\n",
       "        <matplotlib.axes._subplots.AxesSubplot object at 0x12bd1cd90>],\n",
       "       [<matplotlib.axes._subplots.AxesSubplot object at 0x12be1da50>,\n",
       "        <matplotlib.axes._subplots.AxesSubplot object at 0x125e72710>],\n",
       "       [<matplotlib.axes._subplots.AxesSubplot object at 0x125e90a10>,\n",
       "        <matplotlib.axes._subplots.AxesSubplot object at 0x125ea5e90>]],\n",
       "      dtype=object)"
      ]
     },
     "execution_count": 28,
     "metadata": {},
     "output_type": "execute_result"
    },
    {
     "data": {
      "image/png": "[encoded data removed]",
      "text/plain": [
       "<Figure size 576x576 with 6 Axes>"
      ]
     },
     "metadata": {
      "needs_background": "light"
     },
     "output_type": "display_data"
    }
   ],
   "source": [
    "plt.close()\n",
    "fig = plt.figure(figsize = (8,8))\n",
    "df.hist(ax = fig.gca())"
   ]
  },
  {
   "cell_type": "code",
   "execution_count": 22,
   "metadata": {},
   "outputs": [
    {
     "data": {
      "text/html": [
       "<div>\n",
       "<style scoped>\n",
       "    .dataframe tbody tr th:only-of-type {\n",
       "        vertical-align: middle;\n",
       "    }\n",
       "\n",
       "    .dataframe tbody tr th {\n",
       "        vertical-align: top;\n",
       "    }\n",
       "\n",
       "    .dataframe thead th {\n",
       "        text-align: right;\n",
       "    }\n",
       "</style>\n",
       "<table border=\"1\" class=\"dataframe\">\n",
       "  <thead>\n",
       "    <tr style=\"text-align: right;\">\n",
       "      <th></th>\n",
       "      <th>Variance</th>\n",
       "      <th>Skewness</th>\n",
       "      <th>Curtosis</th>\n",
       "      <th>Entropy</th>\n",
       "      <th>Decision</th>\n",
       "    </tr>\n",
       "  </thead>\n",
       "  <tbody>\n",
       "    <tr>\n",
       "      <th>Variance</th>\n",
       "      <td>1.000000</td>\n",
       "      <td>0.264026</td>\n",
       "      <td>-0.380850</td>\n",
       "      <td>0.276817</td>\n",
       "      <td>-0.724843</td>\n",
       "    </tr>\n",
       "    <tr>\n",
       "      <th>Skewness</th>\n",
       "      <td>0.264026</td>\n",
       "      <td>1.000000</td>\n",
       "      <td>-0.786895</td>\n",
       "      <td>-0.526321</td>\n",
       "      <td>-0.444688</td>\n",
       "    </tr>\n",
       "    <tr>\n",
       "      <th>Curtosis</th>\n",
       "      <td>-0.380850</td>\n",
       "      <td>-0.786895</td>\n",
       "      <td>1.000000</td>\n",
       "      <td>0.318841</td>\n",
       "      <td>0.155883</td>\n",
       "    </tr>\n",
       "    <tr>\n",
       "      <th>Entropy</th>\n",
       "      <td>0.276817</td>\n",
       "      <td>-0.526321</td>\n",
       "      <td>0.318841</td>\n",
       "      <td>1.000000</td>\n",
       "      <td>-0.023424</td>\n",
       "    </tr>\n",
       "    <tr>\n",
       "      <th>Decision</th>\n",
       "      <td>-0.724843</td>\n",
       "      <td>-0.444688</td>\n",
       "      <td>0.155883</td>\n",
       "      <td>-0.023424</td>\n",
       "      <td>1.000000</td>\n",
       "    </tr>\n",
       "  </tbody>\n",
       "</table>\n",
       "</div>"
      ],
      "text/plain": [
       "          Variance  Skewness  Curtosis   Entropy  Decision\n",
       "Variance  1.000000  0.264026 -0.380850  0.276817 -0.724843\n",
       "Skewness  0.264026  1.000000 -0.786895 -0.526321 -0.444688\n",
       "Curtosis -0.380850 -0.786895  1.000000  0.318841  0.155883\n",
       "Entropy   0.276817 -0.526321  0.318841  1.000000 -0.023424\n",
       "Decision -0.724843 -0.444688  0.155883 -0.023424  1.000000"
      ]
     },
     "execution_count": 22,
     "metadata": {},
     "output_type": "execute_result"
    }
   ],
   "source": [
    "df.corr()"
   ]
  },
  {
   "cell_type": "code",
   "execution_count": 31,
   "metadata": {},
   "outputs": [],
   "source": [
    "def correlation_matrix(df, labels):\n",
    "    from matplotlib import pyplot as plt\n",
    "    from matplotlib import cm as cm\n",
    "    plt.close()\n",
    "    fig = plt.figure(figsize = (8,8))\n",
    "    ax1 = fig.add_subplot(111)\n",
    "    cmap = cm.get_cmap('jet', 30)\n",
    "    cax = ax1.imshow(df.corr(), interpolation=\"nearest\", cmap=cmap)\n",
    "    ax1.grid(True)\n",
    "    ax1.set_xticklabels(labels,fontsize=10,rotation=45)\n",
    "    ax1.set_yticklabels(labels,fontsize=10)\n",
    "    # Add colorbar, make sure to specify tick locations to match desired ticklabels\n",
    "    fig.colorbar(cax, ticks=[.75,.8,.85,.90,.95,1])\n",
    "    plt.show()"
   ]
  },
  {
   "cell_type": "code",
   "execution_count": 60,
   "metadata": {},
   "outputs": [
    {
     "name": "stdout",
     "output_type": "stream",
     "text": [
      "['Index', 'Variance', 'Skewness', 'Curtosis', 'Entropy', 'Decision']\n"
     ]
    }
   ],
   "source": [
    "labels = [\"Index\"] + columns\n",
    "print(labels)"
   ]
  },
  {
   "cell_type": "code",
   "execution_count": 61,
   "metadata": {},
   "outputs": [
    {
     "data": {
      "image/png": "[encoded data removed]",
      "text/plain": [
       "<Figure size 576x576 with 2 Axes>"
      ]
     },
     "metadata": {
      "needs_background": "light"
     },
     "output_type": "display_data"
    }
   ],
   "source": [
    "correlation_matrix(df, [\"index\"] + columns)"
   ]
  },
  {
   "cell_type": "code",
   "execution_count": 16,
   "metadata": {},
   "outputs": [],
   "source": [
    "# Data is clean no further cleaning is needed, lets split the dataset."
   ]
  },
  {
   "cell_type": "code",
   "execution_count": 62,
   "metadata": {},
   "outputs": [],
   "source": [
    "# Split data to training and test\n",
    "from sklearn.model_selection import train_test_split"
   ]
  },
  {
   "cell_type": "code",
   "execution_count": 63,
   "metadata": {},
   "outputs": [
    {
     "name": "stdout",
     "output_type": "stream",
     "text": [
      "X_train shape:  (1097, 4)\n",
      "y_train shape:  (1097,)\n",
      "X_test shape:  (275, 4)\n",
      "y_test shape:  (275,)\n"
     ]
    }
   ],
   "source": [
    "# define X [features] & y [predictable attribute]\n",
    "X = df.drop('Decision', axis=1)\n",
    "y = df['Decision']\n",
    "\n",
    "# Split X and y into X_\n",
    "X_train, X_test, y_train, y_test = train_test_split(X, y, test_size=0.20, random_state=1)\n",
    "\n",
    "print(\"X_train shape: \",X_train.shape) # 1097 rows, 4 columns\n",
    "print(\"y_train shape: \",y_train.shape) # 1097 rows, 1 column\n",
    "\n",
    "print(\"X_test shape: \",X_test.shape) # 275 rows, 4 columns\n",
    "print(\"y_test shape: \",y_test.shape) # 275 rows, 1 column"
   ]
  },
  {
   "cell_type": "markdown",
   "metadata": {},
   "source": [
    "### 3. Choosing the Model - use the Decision Tree Classifier"
   ]
  },
  {
   "cell_type": "code",
   "execution_count": 69,
   "metadata": {},
   "outputs": [],
   "source": [
    "from sklearn import metrics\n",
    "from sklearn.tree import DecisionTreeClassifier"
   ]
  },
  {
   "cell_type": "code",
   "execution_count": 65,
   "metadata": {},
   "outputs": [
    {
     "name": "stdout",
     "output_type": "stream",
     "text": [
      "DecisionTreeClassifier(ccp_alpha=0.0, class_weight=None, criterion='gini',\n",
      "                       max_depth=None, max_features=None, max_leaf_nodes=None,\n",
      "                       min_impurity_decrease=0.0, min_impurity_split=None,\n",
      "                       min_samples_leaf=1, min_samples_split=2,\n",
      "                       min_weight_fraction_leaf=0.0, presort='deprecated',\n",
      "                       random_state=None, splitter='best')\n"
     ]
    }
   ],
   "source": [
    "model = DecisionTreeClassifier()\n",
    "print(model)"
   ]
  },
  {
   "cell_type": "markdown",
   "metadata": {},
   "source": [
    "### 4. Training the Model"
   ]
  },
  {
   "cell_type": "code",
   "execution_count": 71,
   "metadata": {},
   "outputs": [],
   "source": [
    "def plot_cm(cm):\n",
    "    plt.close()\n",
    "    decisions = [\"Genuine\",\"Forged\"]\n",
    "    df_cm = pd.DataFrame(cm, index=decisions, columns=decisions)\n",
    "    fig = plt.figure(figsize=(5,5))\n",
    "    heatmap = sns.heatmap(df_cm, annot=True, fmt=\"d\",cmap=\"YlGnBu\",linecolor=\"blue\",linewidths=1.0)\n",
    "    heatmap.yaxis.set_ticklabels(heatmap.yaxis.get_ticklabels(), rotation=0, ha='right', fontsize=10)\n",
    "    heatmap.xaxis.set_ticklabels(heatmap.xaxis.get_ticklabels(), rotation=45, ha='right', fontsize=10)\n",
    "    plt.ylabel('True label')\n",
    "    plt.xlabel('Predicted label')\n",
    "    plt.show()"
   ]
  },
  {
   "cell_type": "code",
   "execution_count": 66,
   "metadata": {},
   "outputs": [
    {
     "data": {
      "text/plain": [
       "DecisionTreeClassifier(ccp_alpha=0.0, class_weight=None, criterion='gini',\n",
       "                       max_depth=None, max_features=None, max_leaf_nodes=None,\n",
       "                       min_impurity_decrease=0.0, min_impurity_split=None,\n",
       "                       min_samples_leaf=1, min_samples_split=2,\n",
       "                       min_weight_fraction_leaf=0.0, presort='deprecated',\n",
       "                       random_state=None, splitter='best')"
      ]
     },
     "execution_count": 66,
     "metadata": {},
     "output_type": "execute_result"
    }
   ],
   "source": [
    "model.fit(X_train, y_train)"
   ]
  },
  {
   "cell_type": "code",
   "execution_count": 67,
   "metadata": {},
   "outputs": [],
   "source": [
    "# make predictions\n",
    "expected = y_train\n",
    "predicted = model.predict(X_train)"
   ]
  },
  {
   "cell_type": "code",
   "execution_count": 70,
   "metadata": {},
   "outputs": [
    {
     "name": "stdout",
     "output_type": "stream",
     "text": [
      "              precision    recall  f1-score   support\n",
      "\n",
      "           0       1.00      1.00      1.00       605\n",
      "           1       1.00      1.00      1.00       492\n",
      "\n",
      "    accuracy                           1.00      1097\n",
      "   macro avg       1.00      1.00      1.00      1097\n",
      "weighted avg       1.00      1.00      1.00      1097\n",
      "\n",
      "[[605   0]\n",
      " [  0 492]]\n"
     ]
    }
   ],
   "source": [
    "# summarize the fit of the model\n",
    "print(metrics.classification_report(expected, predicted))\n",
    "print(metrics.confusion_matrix(expected, predicted))"
   ]
  },
  {
   "cell_type": "code",
   "execution_count": 72,
   "metadata": {},
   "outputs": [
    {
     "data": {
      "image/png": "[encoded data removed]",
      "text/plain": [
       "<Figure size 360x360 with 2 Axes>"
      ]
     },
     "metadata": {
      "needs_background": "light"
     },
     "output_type": "display_data"
    }
   ],
   "source": [
    "plot_cm(metrics.confusion_matrix(expected, predicted))"
   ]
  },
  {
   "cell_type": "markdown",
   "metadata": {},
   "source": [
    "### 5. Evaluation of the selected model"
   ]
  },
  {
   "cell_type": "code",
   "execution_count": 73,
   "metadata": {},
   "outputs": [],
   "source": [
    "# make predictions\n",
    "expected = y_test\n",
    "predicted = model.predict(X_test)"
   ]
  },
  {
   "cell_type": "code",
   "execution_count": 74,
   "metadata": {},
   "outputs": [
    {
     "name": "stdout",
     "output_type": "stream",
     "text": [
      "              precision    recall  f1-score   support\n",
      "\n",
      "           0       0.98      0.97      0.98       157\n",
      "           1       0.97      0.97      0.97       118\n",
      "\n",
      "    accuracy                           0.97       275\n",
      "   macro avg       0.97      0.97      0.97       275\n",
      "weighted avg       0.97      0.97      0.97       275\n",
      "\n",
      "[[153   4]\n",
      " [  3 115]]\n"
     ]
    }
   ],
   "source": [
    "# summarize the fit of the model\n",
    "print(metrics.classification_report(expected, predicted))\n",
    "print(metrics.confusion_matrix(expected, predicted))"
   ]
  },
  {
   "cell_type": "code",
   "execution_count": 75,
   "metadata": {},
   "outputs": [
    {
     "data": {
      "image/png": "[encoded data removed]",
      "text/plain": [
       "<Figure size 360x360 with 2 Axes>"
      ]
     },
     "metadata": {
      "needs_background": "light"
     },
     "output_type": "display_data"
    }
   ],
   "source": [
    "plot_cm(metrics.confusion_matrix(expected, predicted))"
   ]
  },
  {
   "cell_type": "code",
   "execution_count": null,
   "metadata": {},
   "outputs": [],
   "source": []
  },
  {
   "cell_type": "code",
   "execution_count": 76,
   "metadata": {},
   "outputs": [],
   "source": [
    "from sklearn.tree import DecisionTreeClassifier, export_graphviz"
   ]
  },
  {
   "cell_type": "code",
   "execution_count": 81,
   "metadata": {},
   "outputs": [],
   "source": [
    "def visualize_tree_generate_dot(tree, feature_names):\n",
    "    \"\"\"Create tree png using graphviz.\n",
    "\n",
    "    Args\n",
    "    ----\n",
    "    tree -- scikit-learn DecsisionTree.\n",
    "    feature_names -- list of feature names.\n",
    "    \"\"\"\n",
    "    with open(\"banknote_dt.dot\", 'w') as f:\n",
    "        export_graphviz(tree, out_file=f,\n",
    "                        feature_names=feature_names)"
   ]
  },
  {
   "cell_type": "code",
   "execution_count": 84,
   "metadata": {},
   "outputs": [],
   "source": [
    "feature_names = columns[:4]\n",
    "visualize_tree_generate_dot(model, feature_names)"
   ]
  },
  {
   "cell_type": "code",
   "execution_count": 85,
   "metadata": {},
   "outputs": [
    {
     "name": "stdout",
     "output_type": "stream",
     "text": [
      "digraph Tree {\r\n",
      "node [shape=box] ;\r\n",
      "0 [label=\"Variance <= 0.313\\ngini = 0.495\\nsamples = 1097\\nvalue = [605, 492]\"] ;\r\n",
      "1 [label=\"Skewness <= 5.519\\ngini = 0.31\\nsamples = 532\\nvalue = [102, 430]\"] ;\r\n",
      "0 -> 1 [labeldistance=2.5, labelangle=45, headlabel=\"True\"] ;\r\n",
      "2 [label=\"Curtosis <= 6.739\\ngini = 0.099\\nsamples = 420\\nvalue = [22, 398]\"] ;\r\n",
      "1 -> 2 ;\r\n",
      "3 [label=\"Skewness <= 4.094\\ngini = 0.013\\nsamples = 306\\nvalue = [2, 304]\"] ;\r\n",
      "2 -> 3 ;\r\n",
      "4 [label=\"Variance <= -0.259\\ngini = 0.007\\nsamples = 295\\nvalue = [1, 294]\"] ;\r\n",
      "3 -> 4 ;\r\n",
      "5 [label=\"gini = 0.0\\nsamples = 259\\nvalue = [0, 259]\"] ;\r\n",
      "4 -> 5 ;\r\n",
      "6 [label=\"Variance <= -0.244\\ngini = 0.054\\nsamples = 36\\nvalue = [1, 35]\"] ;\r\n",
      "4 -> 6 ;\r\n",
      "7 [label=\"gini = 0.0\\nsamples = 1\\nvalue = [1, 0]\"] ;\r\n",
      "6 -> 7 ;\r\n",
      "8 [label=\"gini = 0.0\\nsamples = 35\\nvalue = [0, 35]\"] ;\r\n",
      "6 -> 8 ;\r\n",
      "9 [label=\"Curtosis <= 1.312\\ngini = 0.165\\nsamples = 11\\nvalue = [1, 10]\"] ;\r\n",
      "3 -> 9 ;\r\n",
      "10 [label=\"gini = 0.0\\nsamples = 10\\nvalue = [0, 10]\"] ;\r\n",
      "9 -> 10 ;\r\n",
      "11 [label=\"gini = 0.0\\nsamples = 1\\nvalue = [1, 0]\"] ;\r\n",
      "9 -> 11 ;\r\n",
      "12 [label=\"Skewness <= -4.8\\ngini = 0.289\\nsamples = 114\\nvalue = [20, 94]\"] ;\r\n",
      "2 -> 12 ;\r\n",
      "13 [label=\"Variance <= -0.534\\ngini = 0.021\\nsamples = 95\\nvalue = [1, 94]\"] ;\r\n",
      "12 -> 13 ;\r\n",
      "14 [label=\"gini = 0.0\\nsamples = 94\\nvalue = [0, 94]\"] ;\r\n",
      "13 -> 14 ;\r\n",
      "15 [label=\"gini = 0.0\\nsamples = 1\\nvalue = [1, 0]\"] ;\r\n",
      "13 -> 15 ;\r\n",
      "16 [label=\"gini = 0.0\\nsamples = 19\\nvalue = [19, 0]\"] ;\r\n",
      "12 -> 16 ;\r\n",
      "17 [label=\"Variance <= -3.445\\ngini = 0.408\\nsamples = 112\\nvalue = [80, 32]\"] ;\r\n",
      "1 -> 17 ;\r\n",
      "18 [label=\"Curtosis <= 2.111\\ngini = 0.059\\nsamples = 33\\nvalue = [1, 32]\"] ;\r\n",
      "17 -> 18 ;\r\n",
      "19 [label=\"gini = 0.0\\nsamples = 32\\nvalue = [0, 32]\"] ;\r\n",
      "18 -> 19 ;\r\n",
      "20 [label=\"gini = 0.0\\nsamples = 1\\nvalue = [1, 0]\"] ;\r\n",
      "18 -> 20 ;\r\n",
      "21 [label=\"gini = 0.0\\nsamples = 79\\nvalue = [79, 0]\"] ;\r\n",
      "17 -> 21 ;\r\n",
      "22 [label=\"Curtosis <= -4.386\\ngini = 0.195\\nsamples = 565\\nvalue = [503, 62]\"] ;\r\n",
      "0 -> 22 [labeldistance=2.5, labelangle=-45, headlabel=\"False\"] ;\r\n",
      "23 [label=\"Skewness <= 7.192\\ngini = 0.32\\nsamples = 35\\nvalue = [7, 28]\"] ;\r\n",
      "22 -> 23 ;\r\n",
      "24 [label=\"gini = 0.0\\nsamples = 28\\nvalue = [0, 28]\"] ;\r\n",
      "23 -> 24 ;\r\n",
      "25 [label=\"gini = 0.0\\nsamples = 7\\nvalue = [7, 0]\"] ;\r\n",
      "23 -> 25 ;\r\n",
      "26 [label=\"Variance <= 1.06\\ngini = 0.12\\nsamples = 530\\nvalue = [496, 34]\"] ;\r\n",
      "22 -> 26 ;\r\n",
      "27 [label=\"Curtosis <= -1.739\\ngini = 0.403\\nsamples = 93\\nvalue = [67, 26]\"] ;\r\n",
      "26 -> 27 ;\r\n",
      "28 [label=\"Skewness <= 5.727\\ngini = 0.198\\nsamples = 18\\nvalue = [2, 16]\"] ;\r\n",
      "27 -> 28 ;\r\n",
      "29 [label=\"gini = 0.0\\nsamples = 16\\nvalue = [0, 16]\"] ;\r\n",
      "28 -> 29 ;\r\n",
      "30 [label=\"gini = 0.0\\nsamples = 2\\nvalue = [2, 0]\"] ;\r\n",
      "28 -> 30 ;\r\n",
      "31 [label=\"Entropy <= 0.106\\ngini = 0.231\\nsamples = 75\\nvalue = [65, 10]\"] ;\r\n",
      "27 -> 31 ;\r\n",
      "32 [label=\"Curtosis <= -1.434\\ngini = 0.033\\nsamples = 59\\nvalue = [58, 1]\"] ;\r\n",
      "31 -> 32 ;\r\n",
      "33 [label=\"Variance <= 0.477\\ngini = 0.245\\nsamples = 7\\nvalue = [6, 1]\"] ;\r\n",
      "32 -> 33 ;\r\n",
      "34 [label=\"gini = 0.0\\nsamples = 1\\nvalue = [0, 1]\"] ;\r\n",
      "33 -> 34 ;\r\n",
      "35 [label=\"gini = 0.0\\nsamples = 6\\nvalue = [6, 0]\"] ;\r\n",
      "33 -> 35 ;\r\n",
      "36 [label=\"gini = 0.0\\nsamples = 52\\nvalue = [52, 0]\"] ;\r\n",
      "32 -> 36 ;\r\n",
      "37 [label=\"Curtosis <= 1.952\\ngini = 0.492\\nsamples = 16\\nvalue = [7, 9]\"] ;\r\n",
      "31 -> 37 ;\r\n",
      "38 [label=\"gini = 0.0\\nsamples = 9\\nvalue = [0, 9]\"] ;\r\n",
      "37 -> 38 ;\r\n",
      "39 [label=\"gini = 0.0\\nsamples = 7\\nvalue = [7, 0]\"] ;\r\n",
      "37 -> 39 ;\r\n",
      "40 [label=\"Variance <= 2.037\\ngini = 0.036\\nsamples = 437\\nvalue = [429, 8]\"] ;\r\n",
      "26 -> 40 ;\r\n",
      "41 [label=\"Curtosis <= -2.341\\ngini = 0.154\\nsamples = 95\\nvalue = [87, 8]\"] ;\r\n",
      "40 -> 41 ;\r\n",
      "42 [label=\"gini = 0.0\\nsamples = 6\\nvalue = [0, 6]\"] ;\r\n",
      "41 -> 42 ;\r\n",
      "43 [label=\"Entropy <= 1.315\\ngini = 0.044\\nsamples = 89\\nvalue = [87, 2]\"] ;\r\n",
      "41 -> 43 ;\r\n",
      "44 [label=\"Curtosis <= -1.751\\ngini = 0.023\\nsamples = 87\\nvalue = [86, 1]\"] ;\r\n",
      "43 -> 44 ;\r\n",
      "45 [label=\"Curtosis <= -2.013\\ngini = 0.198\\nsamples = 9\\nvalue = [8, 1]\"] ;\r\n",
      "44 -> 45 ;\r\n",
      "46 [label=\"gini = 0.0\\nsamples = 8\\nvalue = [8, 0]\"] ;\r\n",
      "45 -> 46 ;\r\n",
      "47 [label=\"gini = 0.0\\nsamples = 1\\nvalue = [0, 1]\"] ;\r\n",
      "45 -> 47 ;\r\n",
      "48 [label=\"gini = 0.0\\nsamples = 78\\nvalue = [78, 0]\"] ;\r\n",
      "44 -> 48 ;\r\n",
      "49 [label=\"Curtosis <= 1.379\\ngini = 0.5\\nsamples = 2\\nvalue = [1, 1]\"] ;\r\n",
      "43 -> 49 ;\r\n",
      "50 [label=\"gini = 0.0\\nsamples = 1\\nvalue = [0, 1]\"] ;\r\n",
      "49 -> 50 ;\r\n",
      "51 [label=\"gini = 0.0\\nsamples = 1\\nvalue = [1, 0]\"] ;\r\n",
      "49 -> 51 ;\r\n",
      "52 [label=\"gini = 0.0\\nsamples = 342\\nvalue = [342, 0]\"] ;\r\n",
      "40 -> 52 ;\r\n",
      "}"
     ]
    }
   ],
   "source": [
    "!cat banknote_dt.dot"
   ]
  },
  {
   "cell_type": "code",
   "execution_count": 92,
   "metadata": {},
   "outputs": [],
   "source": [
    "import pydot\n",
    "import matplotlib.image as mpimg"
   ]
  },
  {
   "cell_type": "code",
   "execution_count": 90,
   "metadata": {},
   "outputs": [],
   "source": [
    "(graph,) = pydot.graph_from_dot_file('banknote_dt.dot')\n",
    "graph.write_png('banknote_dt.png')"
   ]
  },
  {
   "cell_type": "code",
   "execution_count": 97,
   "metadata": {},
   "outputs": [],
   "source": [
    "img = mpimg.imread('./banknote_dt.png')"
   ]
  },
  {
   "cell_type": "code",
   "execution_count": 107,
   "metadata": {},
   "outputs": [
    {
     "data": {
      "image/png": "[encoded data removed]",
      "text/plain": [
       "<Figure size 1152x1440 with 1 Axes>"
      ]
     },
     "metadata": {
      "needs_background": "light"
     },
     "output_type": "display_data"
    }
   ],
   "source": [
    "plt.close()\n",
    "fig = plt.figure(figsize = (16,20))\n",
    "imgplot = fig.gca().imshow(img)"
   ]
  },
  {
   "cell_type": "code",
   "execution_count": 96,
   "metadata": {},
   "outputs": [],
   "source": []
  }
 ],
 "metadata": {
  "kernelspec": {
   "display_name": "Python [conda env:gis] *",
   "language": "python",
   "name": "conda-env-gis-py"
  },
  "language_info": {
   "codemirror_mode": {
    "name": "ipython",
    "version": 3
   },
   "file_extension": ".py",
   "mimetype": "text/x-python",
   "name": "python",
   "nbconvert_exporter": "python",
   "pygments_lexer": "ipython3",
   "version": "3.7.6"
  },
  "toc": {
   "base_numbering": 1,
   "nav_menu": {},
   "number_sections": false,
   "sideBar": true,
   "skip_h1_title": false,
   "title_cell": "Table of Contents",
   "title_sidebar": "Contents",
   "toc_cell": false,
   "toc_position": {},
   "toc_section_display": true,
   "toc_window_display": false
  }
 },
 "nbformat": 4,
 "nbformat_minor": 2
}
